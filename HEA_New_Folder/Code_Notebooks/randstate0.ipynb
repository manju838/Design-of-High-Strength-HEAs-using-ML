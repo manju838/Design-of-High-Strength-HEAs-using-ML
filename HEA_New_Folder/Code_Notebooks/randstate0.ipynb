{
 "cells": [
  {
   "cell_type": "code",
   "execution_count": 1,
   "id": "b2c3df54",
   "metadata": {},
   "outputs": [
    {
     "name": "stdout",
     "output_type": "stream",
     "text": [
      "3.6.5\n"
     ]
    }
   ],
   "source": [
    "from platform import python_version\n",
    "\n",
    "print(python_version())"
   ]
  },
  {
   "cell_type": "markdown",
   "id": "f6141b22",
   "metadata": {},
   "source": [
    "## High Entropy Alloy(HEA) Classifier\n",
    "\n",
    "\n",
    "---\n",
    "This is the first submodule of our work which classifies if the given input is HEA or non-HEA\n"
   ]
  },
  {
   "cell_type": "code",
   "execution_count": 1,
   "id": "f8214433",
   "metadata": {},
   "outputs": [],
   "source": [
    "from sklearn.svm import SVC,NuSVC\n",
    "from sklearn.linear_model import SGDClassifier, LogisticRegression\n",
    "from sklearn.neighbors import KNeighborsClassifier\n",
    "from sklearn.ensemble import RandomForestClassifier, AdaBoostClassifier, GradientBoostingClassifier, ExtraTreesClassifier\n",
    "from xgboost import XGBClassifier\n",
    "from sklearn.tree import DecisionTreeClassifier\n",
    "from sklearn.naive_bayes import GaussianNB\n",
    "from sklearn.model_selection import KFold\n",
    "import numpy as np\n",
    "import pandas as pd\n",
    "from hypopt import GridSearch\n",
    "from sklearn.metrics import roc_auc_score, accuracy_score, precision_score, recall_score, f1_score\n",
    "from sklearn.model_selection import cross_val_score\n",
    "import pickle\n",
    "from sklearn.metrics import mean_squared_error as mse\n",
    "from sklearn.model_selection import cross_validate\n",
    "from sklearn.model_selection import train_test_split\n",
    "\n",
    "# Ignore Warnings\n",
    "import warnings\n",
    "warnings.filterwarnings('ignore')\n",
    "\n",
    "# from google.colab import drive"
   ]
  },
  {
   "cell_type": "markdown",
   "id": "42c18a1c",
   "metadata": {},
   "source": [
    "Loading Dataset for classifier"
   ]
  },
  {
   "cell_type": "code",
   "execution_count": 2,
   "id": "ea27a5d5",
   "metadata": {},
   "outputs": [
    {
     "data": {
      "text/plain": [
       "Index(['Unnamed: 0', 'Alloy', 'Al', 'Ca', 'Cu', 'Zr', 'Ni', 'Nb', 'Ag', 'Mg',\n",
       "       'Gd', 'Au', 'Si', 'Zn', 'Ce', 'Hf', 'Ti', 'Ga', 'Dy', 'Co', 'Er', 'Fe',\n",
       "       'Ho', 'La', 'Lu', 'Nd', 'Pr', 'Tb', 'Ta', 'Pd', 'Sm', 'Tm', 'Be', 'Mo',\n",
       "       'Li', 'In', 'Mn', 'Sn', 'Sc', 'Yb', 'Cr', 'Pb', 'Ge', 'Pt', 'Length',\n",
       "       'HEA/Non-HEA', 'As', 'B', 'Ba', 'Bi', 'Br', 'C', 'Cd', 'Cl', 'Cs', 'Eu',\n",
       "       'F', 'H', 'Hg', 'I', 'Ir', 'K', 'N', 'Na', 'Ne', 'Ns', 'O', 'Os', 'P',\n",
       "       'Rb', 'Re', 'Rh', 'Ru', 'S', 'Sb', 'Se', 'Sr', 'Te', 'Tl', 'V', 'W',\n",
       "       'Y', 'Tc'],\n",
       "      dtype='object')"
      ]
     },
     "execution_count": 2,
     "metadata": {},
     "output_type": "execute_result"
    }
   ],
   "source": [
    "main_hea = pd.read_csv(\"C:/Users/anike/OneDrive/Desktop/DL_project/Design-of-High-Strength-HEAs-using-Machine-Learning/HEA_New_Folder/Datasets/Final_HEA_Classifier.csv\")\n",
    "main_hea.fillna(0, inplace = True)\n",
    "main_hea.columns"
   ]
  },
  {
   "cell_type": "code",
   "execution_count": 3,
   "id": "c7651d91",
   "metadata": {},
   "outputs": [
    {
     "data": {
      "text/plain": [
       "False"
      ]
     },
     "execution_count": 3,
     "metadata": {},
     "output_type": "execute_result"
    }
   ],
   "source": [
    "main_hea.isnull().values.any()"
   ]
  },
  {
   "cell_type": "markdown",
   "id": "322e30db",
   "metadata": {},
   "source": [
    "Train-Test Split on compiled dataset is shown below and train and test sets are saved as .csv format which can be directly used for loading into models."
   ]
  },
  {
   "cell_type": "code",
   "execution_count": 4,
   "id": "822ad9f8",
   "metadata": {},
   "outputs": [],
   "source": [
    "features = ['Al', 'Ca', 'Cu', 'Zr', 'Ni', 'Nb', 'Ag', 'Mg','Gd', 'Au', 'Si', 'Zn', 'Ce', 'Hf', 'Ti', 'Ga', 'Dy', 'Co', 'Er', 'Fe','Ho', 'La', 'Lu', 'Nd', 'Pr', 'Tb', 'Ta', 'Pd', 'Sm', 'Tm', 'Be', 'Mo','Li', 'In', 'Mn', 'Sn', 'Sc', 'Yb', 'Cr', 'Pb', 'Ge', 'Pt','As', 'B', 'Ba', 'Bi', 'Br', 'C', 'Cd', 'Cl', 'Cs', 'Eu','F', 'H', 'Hg', 'I', 'Ir', 'K', 'N', 'Na', 'Ne', 'Ns', 'O', 'Os', 'P','Rb', 'Re', 'Rh', 'Ru', 'S', 'Sb', 'Se', 'Sr', 'Te', 'Tl', 'V', 'W','Y', 'Tc']\n",
    "X = main_hea[features]#, errors = 'ignore'.astype('float').values\n",
    "y = main_hea['HEA/Non-HEA'].values\n",
    "X_train, X_test, y_train, y_test = train_test_split(X, y, random_state=0, train_size = .70)\n",
    "\n",
    "\n",
    "X_train.to_csv(\"C:/Users/anike/OneDrive/Desktop/DL_project/Design-of-High-Strength-HEAs-using-Machine-Learning/HEA_New_Folder/Datasets/Classifier_sets/random_state_0/Classifier_X_train.csv\", index=False)\n",
    "X_test.to_csv(\"C:/Users/anike/OneDrive/Desktop/DL_project/Design-of-High-Strength-HEAs-using-Machine-Learning/HEA_New_Folder/Datasets/Classifier_sets/random_state_0/Classifier_X_test.csv\", index=False)\n",
    "pd.DataFrame(y_train).to_csv(\"C:/Users/anike/OneDrive/Desktop/DL_project/Design-of-High-Strength-HEAs-using-Machine-Learning/HEA_New_Folder/Datasets/Classifier_sets/random_state_0/Classifier_y_train.csv\", index=False)\n",
    "pd.DataFrame(y_test).to_csv(\"C:/Users/anike/OneDrive/Desktop/DL_project/Design-of-High-Strength-HEAs-using-Machine-Learning/HEA_New_Folder/Datasets/Classifier_sets/random_state_0/Classifier_y_test.csv\", index=False)\n"
   ]
  },
  {
   "cell_type": "code",
   "execution_count": 5,
   "id": "6a72921f",
   "metadata": {},
   "outputs": [
    {
     "name": "stdout",
     "output_type": "stream",
     "text": [
      "<class 'numpy.ndarray'> (1320,)\n"
     ]
    }
   ],
   "source": [
    "print(type(y_train),y_train.shape)"
   ]
  },
  {
   "cell_type": "code",
   "execution_count": 6,
   "id": "ad53bd76",
   "metadata": {},
   "outputs": [],
   "source": [
    "from sklearn.preprocessing import StandardScaler\n",
    "# Defining Scaling\n",
    "scaler = StandardScaler()\n",
    "scaler.fit(X_train)\n",
    "\n",
    "x_train_scaled = scaler.transform(X_train)\n",
    "x_test_scaled = scaler.transform(X_test)\n",
    "\n",
    "import pickle\n",
    "pickle.dump(scaler, open('C:/Users/anike/OneDrive/Desktop/DL_project/Design-of-High-Strength-HEAs-using-Machine-Learning/HEA_New_Folder/Datasets/Scalars/random_state_0/classifier_sd_scaler.sav', 'wb'))"
   ]
  },
  {
   "cell_type": "markdown",
   "id": "04ae488b",
   "metadata": {},
   "source": [
    "Train and Test set feature and label shapes"
   ]
  },
  {
   "cell_type": "code",
   "execution_count": 7,
   "id": "e5fcef70",
   "metadata": {},
   "outputs": [
    {
     "name": "stdout",
     "output_type": "stream",
     "text": [
      "(1320, 79) (1320,) (567, 79) (567,)\n"
     ]
    }
   ],
   "source": [
    "print(x_train_scaled.shape, y_train.shape, x_test_scaled.shape, y_test.shape)"
   ]
  },
  {
   "cell_type": "markdown",
   "id": "09d10aa4",
   "metadata": {},
   "source": [
    "Logistic Regression"
   ]
  },
  {
   "cell_type": "code",
   "execution_count": 11,
   "id": "298af6cc",
   "metadata": {},
   "outputs": [],
   "source": [
    "penalty = [\"l1\", \"l2\",\"elasticnet\"] \n",
    "intercept_scaling = [x for x in np.arange(0.6,1.4,0.2)]\n",
    "C =  [x for x in np.arange(0,1.2,0.05)] \n",
    "tol = [x for x in np.arange(0,0.004,0.0005)] \n",
    "random_state=[0]\n",
    "\n",
    "random_grid = {'penalty': penalty,\n",
    "               'tol': tol,\n",
    "               'C':C,\n",
    "               'random_state':random_state\n",
    "               }\n",
    "              \n",
    "lr = GridSearch(model = LogisticRegression(),param_grid=random_grid,cv_folds=5)    \n",
    "lr_model = lr.fit(x_train_scaled, np.array(y_train))"
   ]
  },
  {
   "cell_type": "code",
   "execution_count": 12,
   "id": "af2cd39b",
   "metadata": {},
   "outputs": [
    {
     "data": {
      "text/plain": [
       "{'C': 0.8,\n",
       " 'class_weight': None,\n",
       " 'dual': False,\n",
       " 'fit_intercept': True,\n",
       " 'intercept_scaling': 1,\n",
       " 'l1_ratio': None,\n",
       " 'max_iter': 100,\n",
       " 'multi_class': 'auto',\n",
       " 'n_jobs': None,\n",
       " 'penalty': 'l2',\n",
       " 'random_state': 0,\n",
       " 'solver': 'lbfgs',\n",
       " 'tol': 0.0,\n",
       " 'verbose': 0,\n",
       " 'warm_start': False}"
      ]
     },
     "execution_count": 12,
     "metadata": {},
     "output_type": "execute_result"
    }
   ],
   "source": [
    "lr_model.get_params()"
   ]
  },
  {
   "cell_type": "markdown",
   "id": "747dc10c",
   "metadata": {},
   "source": [
    "Support Vector Classifier(SVC)"
   ]
  },
  {
   "cell_type": "code",
   "execution_count": 13,
   "id": "3cd785f8",
   "metadata": {},
   "outputs": [],
   "source": [
    "kernel = [\"linear\", \"poly\", \"rbf\", \"sigmoid\"] \n",
    "degree = [2,3,4]\n",
    "coef0 = [x for x in np.arange(0,0.5,0.05)]\n",
    "C =  [x for x in np.arange(0,1.2,0.05)]\n",
    "tol = [x for x in np.arange(0,0.002,0.0005)]\n",
    "random_state=[0]\n",
    "probability = [True]\n",
    "\n",
    "random_grid = {'kernel': kernel,\n",
    "               'degree': degree,\n",
    "               'coef0':coef0,\n",
    "               'C':C,\n",
    "               'tol':tol,\n",
    "               'random_state':random_state,\n",
    "               'probability':probability\n",
    "               }\n",
    "             \n",
    "svc = GridSearch(model = SVC(),param_grid=random_grid,cv_folds=5)    \n",
    "svc_model = svc.fit(x_train_scaled, np.array(y_train))"
   ]
  },
  {
   "cell_type": "code",
   "execution_count": 14,
   "id": "bd641296",
   "metadata": {},
   "outputs": [
    {
     "data": {
      "text/plain": [
       "{'C': 1.0,\n",
       " 'break_ties': False,\n",
       " 'cache_size': 200,\n",
       " 'class_weight': None,\n",
       " 'coef0': 0.0,\n",
       " 'decision_function_shape': 'ovr',\n",
       " 'degree': 2,\n",
       " 'gamma': 'scale',\n",
       " 'kernel': 'rbf',\n",
       " 'max_iter': -1,\n",
       " 'probability': True,\n",
       " 'random_state': 0,\n",
       " 'shrinking': True,\n",
       " 'tol': 0.0005,\n",
       " 'verbose': False}"
      ]
     },
     "execution_count": 14,
     "metadata": {},
     "output_type": "execute_result"
    }
   ],
   "source": [
    "svc_model.get_params()"
   ]
  },
  {
   "cell_type": "markdown",
   "id": "41d7d3da",
   "metadata": {},
   "source": [
    "Nu-Support Vector Classifier(NuSVC)"
   ]
  },
  {
   "cell_type": "code",
   "execution_count": 16,
   "id": "bf69c40e",
   "metadata": {},
   "outputs": [],
   "source": [
    "nu = [x for x in np.arange(0,0.7,0.025)] \n",
    "kernel = [\"linear\", \"poly\", \"rbf\", \"sigmoid\"] \n",
    "degree = [2,3,4]\n",
    "coef0 = [x for x in np.arange(0,0.4,0.05)] \n",
    "probability = [True]\n",
    "random_state=[0]\n",
    "\n",
    "random_grid = {'kernel': kernel,\n",
    "               'degree': degree,\n",
    "               'coef0':coef0,\n",
    "               'nu':nu,\n",
    "               'random_state':random_state,\n",
    "               'probability':probability\n",
    "               }\n",
    "              \n",
    "nusvc = GridSearch(model = NuSVC(),param_grid=random_grid,cv_folds=5)    \n",
    "nusvc_model = nusvc.fit(x_train_scaled, np.array(y_train))\n"
   ]
  },
  {
   "cell_type": "code",
   "execution_count": 17,
   "id": "02b9ad0f",
   "metadata": {},
   "outputs": [
    {
     "data": {
      "text/plain": [
       "{'break_ties': False,\n",
       " 'cache_size': 200,\n",
       " 'class_weight': None,\n",
       " 'coef0': 0.0,\n",
       " 'decision_function_shape': 'ovr',\n",
       " 'degree': 2,\n",
       " 'gamma': 'scale',\n",
       " 'kernel': 'rbf',\n",
       " 'max_iter': -1,\n",
       " 'nu': 0.375,\n",
       " 'probability': True,\n",
       " 'random_state': 0,\n",
       " 'shrinking': True,\n",
       " 'tol': 0.001,\n",
       " 'verbose': False}"
      ]
     },
     "execution_count": 17,
     "metadata": {},
     "output_type": "execute_result"
    }
   ],
   "source": [
    "nusvc_model.get_params()"
   ]
  },
  {
   "cell_type": "markdown",
   "id": "7d711412",
   "metadata": {},
   "source": [
    "Stochastic Gradient Descent(SGD) Classifier"
   ]
  },
  {
   "cell_type": "code",
   "execution_count": 20,
   "id": "47fa8a0a",
   "metadata": {},
   "outputs": [],
   "source": [
    "penalty = [\"l1\", \"l2\",\"elasticnet\"] \n",
    "alpha = [x for x in np.arange(0.0001,0.0002,0.00005)] \n",
    "tol = [x for x in np.arange(0,0.002,0.0005)] \n",
    "random_state=[0]\n",
    "loss = ['modified_huber']\n",
    "\n",
    "random_grid = {'penalty': penalty,\n",
    "               'alpha': alpha,\n",
    "               'tol':tol,\n",
    "               'random_state':random_state,\n",
    "               'loss':loss\n",
    "               }\n",
    "             \n",
    "sgd = GridSearch(model = SGDClassifier(),param_grid=random_grid,cv_folds=5)    \n",
    "sgd_model = sgd.fit(x_train_scaled, np.array(y_train))"
   ]
  },
  {
   "cell_type": "code",
   "execution_count": 21,
   "id": "14802c4f",
   "metadata": {},
   "outputs": [
    {
     "data": {
      "text/plain": [
       "{'alpha': 0.00015000000000000001,\n",
       " 'average': False,\n",
       " 'class_weight': None,\n",
       " 'early_stopping': False,\n",
       " 'epsilon': 0.1,\n",
       " 'eta0': 0.0,\n",
       " 'fit_intercept': True,\n",
       " 'l1_ratio': 0.15,\n",
       " 'learning_rate': 'optimal',\n",
       " 'loss': 'modified_huber',\n",
       " 'max_iter': 1000,\n",
       " 'n_iter_no_change': 5,\n",
       " 'n_jobs': None,\n",
       " 'penalty': 'l2',\n",
       " 'power_t': 0.5,\n",
       " 'random_state': 0,\n",
       " 'shuffle': True,\n",
       " 'tol': 0.0,\n",
       " 'validation_fraction': 0.1,\n",
       " 'verbose': 0,\n",
       " 'warm_start': False}"
      ]
     },
     "execution_count": 21,
     "metadata": {},
     "output_type": "execute_result"
    }
   ],
   "source": [
    "sgd_model.get_params()"
   ]
  },
  {
   "cell_type": "markdown",
   "id": "18e0f700",
   "metadata": {},
   "source": [
    "KNeighbors Classifier"
   ]
  },
  {
   "cell_type": "code",
   "execution_count": 22,
   "id": "6700ee9a",
   "metadata": {},
   "outputs": [],
   "source": [
    "leaf_size = list(range(25,40)) \n",
    "n_neighbors = list(range(3,12))\n",
    "algorithm = [\"auto\", \"ball_tree\", \"kd_tree\",\"brute\"]\n",
    "p = [1,2]\n",
    "\n",
    "random_grid = {'leaf_size': leaf_size,\n",
    "               'n_neighbors': n_neighbors,\n",
    "               'algorithm':algorithm,\n",
    "               'p':p\n",
    "               }\n",
    "              \n",
    "knc = GridSearch(model = KNeighborsClassifier(),param_grid=random_grid,cv_folds=5)    \n",
    "kneighbors_model = knc.fit(x_train_scaled, np.array(y_train))"
   ]
  },
  {
   "cell_type": "code",
   "execution_count": 23,
   "id": "1da5b321",
   "metadata": {},
   "outputs": [
    {
     "data": {
      "text/plain": [
       "{'algorithm': 'auto',\n",
       " 'leaf_size': 25,\n",
       " 'metric': 'minkowski',\n",
       " 'metric_params': None,\n",
       " 'n_jobs': None,\n",
       " 'n_neighbors': 6,\n",
       " 'p': 1,\n",
       " 'weights': 'uniform'}"
      ]
     },
     "execution_count": 23,
     "metadata": {},
     "output_type": "execute_result"
    }
   ],
   "source": [
    "kneighbors_model.get_params()"
   ]
  },
  {
   "cell_type": "markdown",
   "id": "d106712c",
   "metadata": {},
   "source": [
    "Gradient Boosting Classifier"
   ]
  },
  {
   "cell_type": "code",
   "execution_count": 8,
   "id": "cec5ae9b",
   "metadata": {},
   "outputs": [],
   "source": [
    "n_estimators = list(range(80,105)) \n",
    "min_samples_split = list(range(2,4)) \n",
    "max_depth = list(range(1,12)) \n",
    "min_samples_leaf = list(range(1,3)) \n",
    "\n",
    "learning_rate = list(np.arange(0,0.35,0.05)) \n",
    "random_state = [0]\n",
    "\n",
    "random_grid = {'n_estimators': n_estimators,\n",
    "               'min_samples_split': min_samples_split,\n",
    "               'max_depth':max_depth,\n",
    "               'min_samples_leaf':min_samples_leaf,\n",
    "               'learning_rate':learning_rate,\n",
    "               'random_state':random_state\n",
    "               }\n",
    "              \n",
    "gbc = GridSearch(model = GradientBoostingClassifier(),param_grid=random_grid,cv_folds=5)    \n",
    "gradientBoosting_model = gbc.fit(x_train_scaled, np.array(y_train))"
   ]
  },
  {
   "cell_type": "code",
   "execution_count": 9,
   "id": "a33dc3af",
   "metadata": {},
   "outputs": [
    {
     "data": {
      "text/plain": [
       "{'ccp_alpha': 0.0,\n",
       " 'criterion': 'friedman_mse',\n",
       " 'init': None,\n",
       " 'learning_rate': 0.25,\n",
       " 'loss': 'deviance',\n",
       " 'max_depth': 4,\n",
       " 'max_features': None,\n",
       " 'max_leaf_nodes': None,\n",
       " 'min_impurity_decrease': 0.0,\n",
       " 'min_impurity_split': None,\n",
       " 'min_samples_leaf': 2,\n",
       " 'min_samples_split': 2,\n",
       " 'min_weight_fraction_leaf': 0.0,\n",
       " 'n_estimators': 94,\n",
       " 'n_iter_no_change': None,\n",
       " 'random_state': 0,\n",
       " 'subsample': 1.0,\n",
       " 'tol': 0.0001,\n",
       " 'validation_fraction': 0.1,\n",
       " 'verbose': 0,\n",
       " 'warm_start': False}"
      ]
     },
     "execution_count": 9,
     "metadata": {},
     "output_type": "execute_result"
    }
   ],
   "source": [
    "gradientBoosting_model.get_params()"
   ]
  },
  {
   "cell_type": "markdown",
   "id": "2b649b8d",
   "metadata": {},
   "source": [
    "AdaBoost Classifier"
   ]
  },
  {
   "cell_type": "code",
   "execution_count": 26,
   "id": "ace249b5",
   "metadata": {},
   "outputs": [],
   "source": [
    "n_estimators = list(range(40,150)) \n",
    "learning_rate = list(np.arange(1,3,0.25)) \n",
    "algorithm = ['SAMME','SAMME.R']\n",
    "random_state = [0]\n",
    "\n",
    "random_grid = {'n_estimators': n_estimators,\n",
    "               'learning_rate': learning_rate,\n",
    "               'algorithm':algorithm,\n",
    "               'random_state':random_state\n",
    "               }\n",
    "              \n",
    "abc = GridSearch(model = AdaBoostClassifier(),param_grid=random_grid,cv_folds=5)    \n",
    "AdaBoost_model = abc.fit(x_train_scaled, np.array(y_train))"
   ]
  },
  {
   "cell_type": "code",
   "execution_count": 27,
   "id": "04433298",
   "metadata": {},
   "outputs": [
    {
     "data": {
      "text/plain": [
       "{'algorithm': 'SAMME.R',\n",
       " 'base_estimator': None,\n",
       " 'learning_rate': 1.75,\n",
       " 'n_estimators': 98,\n",
       " 'random_state': 0}"
      ]
     },
     "execution_count": 27,
     "metadata": {},
     "output_type": "execute_result"
    }
   ],
   "source": [
    "AdaBoost_model.get_params()"
   ]
  },
  {
   "cell_type": "markdown",
   "id": "1e33a2f4",
   "metadata": {},
   "source": [
    "Random Forest Classifier"
   ]
  },
  {
   "cell_type": "code",
   "execution_count": 28,
   "id": "e38483b9",
   "metadata": {},
   "outputs": [],
   "source": [
    "n_estimators = list(range(70,130)) \n",
    "min_samples_split = list(range(2,4)) \n",
    "max_depth = list(range(1,15))\n",
    "max_features = [\"auto\", \"sqrt\", \"log2\"]\n",
    "random_state = [0]\n",
    "\n",
    "random_grid = {'n_estimators': n_estimators,\n",
    "               'min_samples_split': min_samples_split,\n",
    "               'max_depth':max_depth,\n",
    "               'max_features':max_features,\n",
    "               'random_state':random_state\n",
    "               }\n",
    "              \n",
    "rfc = GridSearch(model = RandomForestClassifier(),param_grid=random_grid,cv_folds=5)    \n",
    "RFC_model = rfc.fit(x_train_scaled, np.array(y_train))"
   ]
  },
  {
   "cell_type": "code",
   "execution_count": 29,
   "id": "fa6ed7e7",
   "metadata": {},
   "outputs": [
    {
     "data": {
      "text/plain": [
       "{'bootstrap': True,\n",
       " 'ccp_alpha': 0.0,\n",
       " 'class_weight': None,\n",
       " 'criterion': 'gini',\n",
       " 'max_depth': 13,\n",
       " 'max_features': 'log2',\n",
       " 'max_leaf_nodes': None,\n",
       " 'max_samples': None,\n",
       " 'min_impurity_decrease': 0.0,\n",
       " 'min_impurity_split': None,\n",
       " 'min_samples_leaf': 1,\n",
       " 'min_samples_split': 3,\n",
       " 'min_weight_fraction_leaf': 0.0,\n",
       " 'n_estimators': 84,\n",
       " 'n_jobs': None,\n",
       " 'oob_score': False,\n",
       " 'random_state': 0,\n",
       " 'verbose': 0,\n",
       " 'warm_start': False}"
      ]
     },
     "execution_count": 29,
     "metadata": {},
     "output_type": "execute_result"
    }
   ],
   "source": [
    "RFC_model.get_params()"
   ]
  },
  {
   "cell_type": "markdown",
   "id": "f570db8c",
   "metadata": {},
   "source": [
    "Extreme Gradient Boosting (XGB) Classifier"
   ]
  },
  {
   "cell_type": "code",
   "execution_count": 30,
   "id": "ff1a706e",
   "metadata": {},
   "outputs": [
    {
     "name": "stdout",
     "output_type": "stream",
     "text": [
      "[22:25:34] WARNING: C:/Users/Administrator/workspace/xgboost-win64_release_1.5.1/src/learner.cc:1115: Starting in XGBoost 1.3.0, the default evaluation metric used with the objective 'binary:logistic' was changed from 'error' to 'logloss'. Explicitly set eval_metric if you'd like to restore the old behavior.\n"
     ]
    }
   ],
   "source": [
    "booster = ['gbtree', 'gblinear', 'dart']\n",
    "eta = list(np.arange(0,1, 0.05)) \n",
    "max_depth = list(range(3,10)) \n",
    "\n",
    "random_grid = {'booster': booster,\n",
    "               'eta': eta,\n",
    "               'max_depth':max_depth\n",
    "               }\n",
    "              \n",
    "xgbc = GridSearch(model = XGBClassifier(),param_grid=random_grid,cv_folds=5)    \n",
    "XGB_Classifier_model = xgbc.fit(x_train_scaled, np.array(y_train))"
   ]
  },
  {
   "cell_type": "code",
   "execution_count": 31,
   "id": "7a23ce7f",
   "metadata": {},
   "outputs": [
    {
     "data": {
      "text/plain": [
       "{'objective': 'binary:logistic',\n",
       " 'use_label_encoder': True,\n",
       " 'base_score': 0.5,\n",
       " 'booster': 'gbtree',\n",
       " 'colsample_bylevel': 1,\n",
       " 'colsample_bynode': 1,\n",
       " 'colsample_bytree': 1,\n",
       " 'enable_categorical': False,\n",
       " 'gamma': 0,\n",
       " 'gpu_id': -1,\n",
       " 'importance_type': None,\n",
       " 'interaction_constraints': '',\n",
       " 'learning_rate': 0.349999994,\n",
       " 'max_delta_step': 0,\n",
       " 'max_depth': 9,\n",
       " 'min_child_weight': 1,\n",
       " 'missing': nan,\n",
       " 'monotone_constraints': '()',\n",
       " 'n_estimators': 100,\n",
       " 'n_jobs': 20,\n",
       " 'num_parallel_tree': 1,\n",
       " 'predictor': 'auto',\n",
       " 'random_state': 0,\n",
       " 'reg_alpha': 0,\n",
       " 'reg_lambda': 1,\n",
       " 'scale_pos_weight': 1,\n",
       " 'subsample': 1,\n",
       " 'tree_method': 'exact',\n",
       " 'validate_parameters': 1,\n",
       " 'verbosity': None,\n",
       " 'eta': 0.35000000000000003}"
      ]
     },
     "execution_count": 31,
     "metadata": {},
     "output_type": "execute_result"
    }
   ],
   "source": [
    "XGB_Classifier_model.get_params()"
   ]
  },
  {
   "cell_type": "markdown",
   "id": "74c88bb2",
   "metadata": {},
   "source": [
    "Decision Tree Classifier"
   ]
  },
  {
   "cell_type": "code",
   "execution_count": 32,
   "id": "4a35b108",
   "metadata": {},
   "outputs": [],
   "source": [
    "min_samples_split = list(range(2,5)) \n",
    "max_depth = list(range(1,15)) \n",
    "min_samples_leaf = list(range(1,3)) \n",
    "max_features = [\"auto\", \"sqrt\", \"log2\"]\n",
    "random_state = [0]\n",
    "\n",
    "random_grid = {\n",
    "               'min_samples_split': min_samples_split,\n",
    "               'max_depth':max_depth,\n",
    "               'min_samples_leaf':min_samples_leaf,\n",
    "               'max_features':max_features,\n",
    "               'random_state':random_state\n",
    "               }\n",
    "         \n",
    "dtc = GridSearch(model = DecisionTreeClassifier(),param_grid=random_grid,cv_folds=5)    \n",
    "DTC_model = dtc.fit(x_train_scaled, np.array(y_train))"
   ]
  },
  {
   "cell_type": "code",
   "execution_count": 33,
   "id": "c8a745b1",
   "metadata": {},
   "outputs": [
    {
     "data": {
      "text/plain": [
       "{'ccp_alpha': 0.0,\n",
       " 'class_weight': None,\n",
       " 'criterion': 'gini',\n",
       " 'max_depth': 14,\n",
       " 'max_features': 'auto',\n",
       " 'max_leaf_nodes': None,\n",
       " 'min_impurity_decrease': 0.0,\n",
       " 'min_impurity_split': None,\n",
       " 'min_samples_leaf': 1,\n",
       " 'min_samples_split': 4,\n",
       " 'min_weight_fraction_leaf': 0.0,\n",
       " 'random_state': 0,\n",
       " 'splitter': 'best'}"
      ]
     },
     "execution_count": 33,
     "metadata": {},
     "output_type": "execute_result"
    }
   ],
   "source": [
    "DTC_model.get_params()"
   ]
  },
  {
   "cell_type": "markdown",
   "id": "b5821cbd",
   "metadata": {},
   "source": [
    "Extra Trees Classifier"
   ]
  },
  {
   "cell_type": "code",
   "execution_count": 34,
   "id": "3395fdab",
   "metadata": {},
   "outputs": [],
   "source": [
    "n_estimators = list(range(70,130))\n",
    "min_samples_split = list(range(2,5)) \n",
    "max_depth = list(range(1,12)) \n",
    "min_samples_leaf = list(range(1,3)) \n",
    "max_features = [\"auto\", \"sqrt\", \"log2\"]\n",
    "random_state = [0]\n",
    "\n",
    "random_grid = {\n",
    "               'n_estimators':n_estimators,\n",
    "               'min_samples_split': min_samples_split,\n",
    "               'max_depth':max_depth,\n",
    "               'min_samples_leaf':min_samples_leaf,\n",
    "               'max_features':max_features,\n",
    "               'random_state':random_state\n",
    "               }\n",
    "              \n",
    "etc = GridSearch(model = ExtraTreesClassifier(),param_grid=random_grid,cv_folds=5)    \n",
    "ExtraTreesClassifier_model = etc.fit(x_train_scaled, np.array(y_train))"
   ]
  },
  {
   "cell_type": "code",
   "execution_count": 35,
   "id": "b246787a",
   "metadata": {},
   "outputs": [
    {
     "data": {
      "text/plain": [
       "{'bootstrap': False,\n",
       " 'ccp_alpha': 0.0,\n",
       " 'class_weight': None,\n",
       " 'criterion': 'gini',\n",
       " 'max_depth': 11,\n",
       " 'max_features': 'log2',\n",
       " 'max_leaf_nodes': None,\n",
       " 'max_samples': None,\n",
       " 'min_impurity_decrease': 0.0,\n",
       " 'min_impurity_split': None,\n",
       " 'min_samples_leaf': 1,\n",
       " 'min_samples_split': 4,\n",
       " 'min_weight_fraction_leaf': 0.0,\n",
       " 'n_estimators': 111,\n",
       " 'n_jobs': None,\n",
       " 'oob_score': False,\n",
       " 'random_state': 0,\n",
       " 'verbose': 0,\n",
       " 'warm_start': False}"
      ]
     },
     "execution_count": 35,
     "metadata": {},
     "output_type": "execute_result"
    }
   ],
   "source": [
    "ExtraTreesClassifier_model.get_params()"
   ]
  },
  {
   "cell_type": "markdown",
   "id": "04132761",
   "metadata": {},
   "source": [
    "Gaussian Naive Bayes(GaussianNB) Classifier"
   ]
  },
  {
   "cell_type": "code",
   "execution_count": 36,
   "id": "3c235c41",
   "metadata": {},
   "outputs": [],
   "source": [
    "var_smoothing = [x for x in np.arange(0.0000000005,0.000000003,0.0000000005)]\n",
    "\n",
    "random_grid = {\n",
    "               'var_smoothing':var_smoothing\n",
    "               }\n",
    "\n",
    "gnb = GridSearch(model = GaussianNB(),param_grid=random_grid,cv_folds=5)    \n",
    "GaussianNB_model = gnb.fit(x_train_scaled, np.array(y_train))"
   ]
  },
  {
   "cell_type": "code",
   "execution_count": 37,
   "id": "516dc2d2",
   "metadata": {},
   "outputs": [
    {
     "data": {
      "text/plain": [
       "{'priors': None, 'var_smoothing': 5e-10}"
      ]
     },
     "execution_count": 37,
     "metadata": {},
     "output_type": "execute_result"
    }
   ],
   "source": [
    "GaussianNB_model.get_params()"
   ]
  },
  {
   "cell_type": "markdown",
   "id": "e0108fa2",
   "metadata": {},
   "source": [
    "Saving Models"
   ]
  },
  {
   "cell_type": "code",
   "execution_count": 39,
   "id": "b6a0c981",
   "metadata": {},
   "outputs": [],
   "source": [
    "filename = 'C:/Users/anike/OneDrive/Desktop/DL_project/Design-of-High-Strength-HEAs-using-Machine-Learning/HEA_New_Folder/Saved Models/Classifier Models/random_state_0/classifier_logistic_regression.sav'\n",
    "pickle.dump(lr_model, open(filename, 'wb'))\n",
    "filename = 'C:/Users/anike/OneDrive/Desktop/DL_project/Design-of-High-Strength-HEAs-using-Machine-Learning/HEA_New_Folder/Saved Models/Classifier Models/random_state_0/classifier_SVC.sav'\n",
    "pickle.dump(svc_model, open(filename, 'wb'))\n",
    "filename = 'C:/Users/anike/OneDrive/Desktop/DL_project/Design-of-High-Strength-HEAs-using-Machine-Learning/HEA_New_Folder/Saved Models/Classifier Models/random_state_0/classifier_NuSVC.sav'\n",
    "pickle.dump(nusvc_model, open(filename, 'wb'))\n",
    "filename = 'C:/Users/anike/OneDrive/Desktop/DL_project/Design-of-High-Strength-HEAs-using-Machine-Learning/HEA_New_Folder/Saved Models/Classifier Models/random_state_0/classifier_SGD.sav'\n",
    "pickle.dump(sgd_model, open(filename, 'wb'))\n",
    "filename = 'C:/Users/anike/OneDrive/Desktop/DL_project/Design-of-High-Strength-HEAs-using-Machine-Learning/HEA_New_Folder/Saved Models/Classifier Models/random_state_0/classifier_kneighbors.sav'\n",
    "pickle.dump(kneighbors_model, open(filename, 'wb'))\n",
    "filename = 'C:/Users/anike/OneDrive/Desktop/DL_project/Design-of-High-Strength-HEAs-using-Machine-Learning/HEA_New_Folder/Saved Models/Classifier Models/random_state_0/classifier_gradientBoosting.sav'\n",
    "pickle.dump(gradientBoosting_model, open(filename, 'wb'))\n",
    "filename = 'C:/Users/anike/OneDrive/Desktop/DL_project/Design-of-High-Strength-HEAs-using-Machine-Learning/HEA_New_Folder/Saved Models/Classifier Models/random_state_0/classifier_adaBoosting.sav'\n",
    "pickle.dump(AdaBoost_model, open(filename, 'wb'))\n",
    "filename = 'C:/Users/anike/OneDrive/Desktop/DL_project/Design-of-High-Strength-HEAs-using-Machine-Learning/HEA_New_Folder/Saved Models/Classifier Models/random_state_0/classifier_randomForestClassifier.sav'\n",
    "pickle.dump(RFC_model, open(filename, 'wb'))\n",
    "filename = 'C:/Users/anike/OneDrive/Desktop/DL_project/Design-of-High-Strength-HEAs-using-Machine-Learning/HEA_New_Folder/Saved Models/Classifier Models/random_state_0/classifier_XGB_Classifier.sav'\n",
    "pickle.dump(XGB_Classifier_model, open(filename, 'wb'))\n",
    "filename = 'C:/Users/anike/OneDrive/Desktop/DL_project/Design-of-High-Strength-HEAs-using-Machine-Learning/HEA_New_Folder/Saved Models/Classifier Models/random_state_0/classifier_DecisionTree_Classifier.sav'\n",
    "pickle.dump(DTC_model, open(filename, 'wb'))\n",
    "filename = 'C:/Users/anike/OneDrive/Desktop/DL_project/Design-of-High-Strength-HEAs-using-Machine-Learning/HEA_New_Folder/Saved Models/Classifier Models/random_state_0/classifier_ExtraTreesClassifier.sav'\n",
    "pickle.dump(ExtraTreesClassifier_model, open(filename, 'wb'))\n",
    "filename = 'C:/Users/anike/OneDrive/Desktop/DL_project/Design-of-High-Strength-HEAs-using-Machine-Learning/HEA_New_Folder/Saved Models/Classifier Models/random_state_0/classifier_GaussianNB.sav'\n",
    "pickle.dump(GaussianNB_model, open(filename, 'wb'))"
   ]
  },
  {
   "cell_type": "markdown",
   "id": "02980425",
   "metadata": {},
   "source": [
    "Computing Metrics"
   ]
  },
  {
   "cell_type": "code",
   "execution_count": 40,
   "id": "66f59769",
   "metadata": {},
   "outputs": [
    {
     "name": "stdout",
     "output_type": "stream",
     "text": [
      "[00:17:53] WARNING: C:/Users/Administrator/workspace/xgboost-win64_release_1.5.1/src/learner.cc:1115: Starting in XGBoost 1.3.0, the default evaluation metric used with the objective 'binary:logistic' was changed from 'error' to 'logloss'. Explicitly set eval_metric if you'd like to restore the old behavior.\n",
      "[00:17:53] WARNING: C:/Users/Administrator/workspace/xgboost-win64_release_1.5.1/src/learner.cc:1115: Starting in XGBoost 1.3.0, the default evaluation metric used with the objective 'binary:logistic' was changed from 'error' to 'logloss'. Explicitly set eval_metric if you'd like to restore the old behavior.\n",
      "[00:17:54] WARNING: C:/Users/Administrator/workspace/xgboost-win64_release_1.5.1/src/learner.cc:1115: Starting in XGBoost 1.3.0, the default evaluation metric used with the objective 'binary:logistic' was changed from 'error' to 'logloss'. Explicitly set eval_metric if you'd like to restore the old behavior.\n",
      "[00:17:54] WARNING: C:/Users/Administrator/workspace/xgboost-win64_release_1.5.1/src/learner.cc:1115: Starting in XGBoost 1.3.0, the default evaluation metric used with the objective 'binary:logistic' was changed from 'error' to 'logloss'. Explicitly set eval_metric if you'd like to restore the old behavior.\n",
      "[00:17:55] WARNING: C:/Users/Administrator/workspace/xgboost-win64_release_1.5.1/src/learner.cc:1115: Starting in XGBoost 1.3.0, the default evaluation metric used with the objective 'binary:logistic' was changed from 'error' to 'logloss'. Explicitly set eval_metric if you'd like to restore the old behavior.\n"
     ]
    }
   ],
   "source": [
    "# Logistic Regression Metrics\n",
    "train_pred = lr_model.predict(x_train_scaled)\n",
    "test_pred = lr_model.predict(x_test_scaled)\n",
    "\n",
    "lr_Accuracy_Train = accuracy_score(np.array(y_train), train_pred)\n",
    "lr_Accuracy_Test = accuracy_score(np.array(y_test), test_pred)\n",
    "\n",
    "lr_Precision_Train = precision_score(np.array(y_train), train_pred)\n",
    "lr_Precision_Test = precision_score(np.array(y_test), test_pred)\n",
    "\n",
    "lr_Recall_Train = recall_score(np.array(y_train), train_pred)\n",
    "lr_Recall_Test = recall_score(np.array(y_test), test_pred)\n",
    "\n",
    "lr_f1_score_Train = f1_score(np.array(y_train), train_pred)\n",
    "lr_f1_score_Test = f1_score(np.array(y_test), test_pred)\n",
    "\n",
    "lr_ROC_AUC_Score_Train = roc_auc_score(np.array(y_train), train_pred)\n",
    "lr_ROC_AUC_Score_Test = roc_auc_score(np.array(y_test), test_pred)\n",
    "\n",
    "lr_cross_val_score_Train = list(cross_val_score(lr_model, x_train_scaled, np.array(y_train), cv=KFold(n_splits=5,shuffle=True)) )\n",
    "\n",
    "# Support Vector Classifier Metrics\n",
    "train_pred = svc_model.predict(x_train_scaled)\n",
    "test_pred = svc_model.predict(x_test_scaled)\n",
    "\n",
    "svc_Accuracy_Train = accuracy_score(np.array(y_train), train_pred)\n",
    "svc_Accuracy_Test = accuracy_score(np.array(y_test), test_pred)\n",
    "\n",
    "svc_Precision_Train = precision_score(np.array(y_train), train_pred)\n",
    "svc_Precision_Test = precision_score(np.array(y_test), test_pred)\n",
    "\n",
    "svc_Recall_Train = recall_score(np.array(y_train), train_pred)\n",
    "svc_Recall_Test = recall_score(np.array(y_test), test_pred)\n",
    "\n",
    "svc_f1_score_Train = f1_score(np.array(y_train), train_pred)\n",
    "svc_f1_score_Test = f1_score(np.array(y_test), test_pred)\n",
    "\n",
    "svc_ROC_AUC_Score_Train = roc_auc_score(np.array(y_train), train_pred)\n",
    "svc_ROC_AUC_Score_Test = roc_auc_score(np.array(y_test), test_pred)\n",
    "\n",
    "svc_cross_val_score_Train = list(cross_val_score(svc_model, x_train_scaled, np.array(y_train), cv=KFold(n_splits=5,shuffle=True)) )\n",
    "\n",
    "\n",
    "# NuSVC Metrics\n",
    "train_pred = nusvc_model.predict(x_train_scaled)\n",
    "test_pred = nusvc_model.predict(x_test_scaled)\n",
    "\n",
    "nusvc_Accuracy_Train = accuracy_score(np.array(y_train), train_pred)\n",
    "nusvc_Accuracy_Test = accuracy_score(np.array(y_test), test_pred)\n",
    "\n",
    "nusvc_Precision_Train = precision_score(np.array(y_train), train_pred)\n",
    "nusvc_Precision_Test = precision_score(np.array(y_test), test_pred)\n",
    "\n",
    "nusvc_Recall_Train = recall_score(np.array(y_train), train_pred)\n",
    "nusvc_Recall_Test = recall_score(np.array(y_test), test_pred)\n",
    "\n",
    "nusvc_f1_score_Train = f1_score(np.array(y_train), train_pred)\n",
    "nusvc_f1_score_Test = f1_score(np.array(y_test), test_pred)\n",
    "\n",
    "nusvc_ROC_AUC_Score_Train = roc_auc_score(np.array(y_train), train_pred)\n",
    "nusvc_ROC_AUC_Score_Test = roc_auc_score(np.array(y_test), test_pred)\n",
    "\n",
    "nusvc_cross_val_score_Train = list(cross_val_score(nusvc_model, x_train_scaled, np.array(y_train), cv=KFold(n_splits=5,shuffle=True)) )\n",
    "\n",
    "\n",
    "# Stochastic Gradient Descent Metrics\n",
    "train_pred = sgd_model.predict(x_train_scaled)\n",
    "test_pred = sgd_model.predict(x_test_scaled)\n",
    "\n",
    "sgd_Accuracy_Train = accuracy_score(np.array(y_train), train_pred)\n",
    "sgd_Accuracy_Test = accuracy_score(np.array(y_test), test_pred)\n",
    "\n",
    "sgd_Precision_Train = precision_score(np.array(y_train), train_pred)\n",
    "sgd_Precision_Test = precision_score(np.array(y_test), test_pred)\n",
    "\n",
    "sgd_Recall_Train = recall_score(np.array(y_train), train_pred)\n",
    "sgd_Recall_Test = recall_score(np.array(y_test), test_pred)\n",
    "\n",
    "sgd_f1_score_Train = f1_score(np.array(y_train), train_pred)\n",
    "sgd_f1_score_Test = f1_score(np.array(y_test), test_pred)\n",
    "\n",
    "sgd_ROC_AUC_Score_Train = roc_auc_score(np.array(y_train), train_pred)\n",
    "sgd_ROC_AUC_Score_Test = roc_auc_score(np.array(y_test), test_pred)\n",
    "\n",
    "sgd_cross_val_score_Train = list(cross_val_score(sgd_model, x_train_scaled, np.array(y_train), cv=KFold(n_splits=5,shuffle=True)) )\n",
    "\n",
    "\n",
    "# KNeighbors Metrics\n",
    "train_pred = kneighbors_model.predict(x_train_scaled)\n",
    "test_pred = kneighbors_model.predict(x_test_scaled)\n",
    "\n",
    "knc_Accuracy_Train = accuracy_score(np.array(y_train), train_pred)\n",
    "knc_Accuracy_Test = accuracy_score(np.array(y_test), test_pred)\n",
    "\n",
    "knc_Precision_Train = precision_score(np.array(y_train), train_pred)\n",
    "knc_Precision_Test = precision_score(np.array(y_test), test_pred)\n",
    "\n",
    "knc_Recall_Train = recall_score(np.array(y_train), train_pred)\n",
    "knc_Recall_Test = recall_score(np.array(y_test), test_pred)\n",
    "\n",
    "knc_f1_score_Train = f1_score(np.array(y_train), train_pred)\n",
    "knc_f1_score_Test = f1_score(np.array(y_test), test_pred)\n",
    "\n",
    "knc_ROC_AUC_Score_Train = roc_auc_score(np.array(y_train), train_pred)\n",
    "knc_ROC_AUC_Score_Test = roc_auc_score(np.array(y_test), test_pred)\n",
    "\n",
    "knc_cross_val_score_Train = list(cross_val_score(kneighbors_model, x_train_scaled, np.array(y_train), cv=KFold(n_splits=5,shuffle=True)) )\n",
    "\n",
    "\n",
    "#Gradient Boosting Metrics\n",
    "train_pred = gradientBoosting_model.predict(x_train_scaled)\n",
    "test_pred = gradientBoosting_model.predict(x_test_scaled)\n",
    "\n",
    "gbc_Accuracy_Train = accuracy_score(np.array(y_train), train_pred)\n",
    "gbc_Accuracy_Test = accuracy_score(np.array(y_test), test_pred)\n",
    "\n",
    "gbc_Precision_Train = precision_score(np.array(y_train), train_pred)\n",
    "gbc_Precision_Test = precision_score(np.array(y_test), test_pred)\n",
    "\n",
    "gbc_Recall_Train = recall_score(np.array(y_train), train_pred)\n",
    "gbc_Recall_Test = recall_score(np.array(y_test), test_pred)\n",
    "\n",
    "gbc_f1_score_Train = f1_score(np.array(y_train), train_pred)\n",
    "gbc_f1_score_Test = f1_score(np.array(y_test), test_pred)\n",
    "\n",
    "gbc_ROC_AUC_Score_Train = roc_auc_score(np.array(y_train), train_pred)\n",
    "gbc_ROC_AUC_Score_Test = roc_auc_score(np.array(y_test), test_pred)\n",
    "\n",
    "gbc_cross_val_score_Train = list(cross_val_score(gradientBoosting_model, x_train_scaled, np.array(y_train), cv=KFold(n_splits=5,shuffle=True)) )\n",
    "\n",
    "\n",
    "# AdaBoost Metrics\n",
    "train_pred = AdaBoost_model.predict(x_train_scaled)\n",
    "test_pred = AdaBoost_model.predict(x_test_scaled)\n",
    "\n",
    "abc_Accuracy_Train = accuracy_score(np.array(y_train), train_pred)\n",
    "abc_Accuracy_Test = accuracy_score(np.array(y_test), test_pred)\n",
    "\n",
    "abc_Precision_Train = precision_score(np.array(y_train), train_pred)\n",
    "abc_Precision_Test = precision_score(np.array(y_test), test_pred)\n",
    "\n",
    "abc_Recall_Train = recall_score(np.array(y_train), train_pred)\n",
    "abc_Recall_Test = recall_score(np.array(y_test), test_pred)\n",
    "\n",
    "abc_f1_score_Train = f1_score(np.array(y_train), train_pred)\n",
    "abc_f1_score_Test = f1_score(np.array(y_test), test_pred)\n",
    "\n",
    "abc_ROC_AUC_Score_Train = roc_auc_score(np.array(y_train), train_pred)\n",
    "abc_ROC_AUC_Score_Test = roc_auc_score(np.array(y_test), test_pred)\n",
    "\n",
    "abc_cross_val_score_Train = list(cross_val_score(AdaBoost_model, x_train_scaled, np.array(y_train), cv=KFold(n_splits=5,shuffle=True)) )\n",
    "\n",
    "\n",
    "# Random Forest Metrics\n",
    "train_pred = RFC_model.predict(x_train_scaled)\n",
    "test_pred = RFC_model.predict(x_test_scaled)\n",
    "\n",
    "rfc_Accuracy_Train = accuracy_score(np.array(y_train), train_pred)\n",
    "rfc_Accuracy_Test = accuracy_score(np.array(y_test), test_pred)\n",
    "\n",
    "rfc_Precision_Train = precision_score(np.array(y_train), train_pred)\n",
    "rfc_Precision_Test = precision_score(np.array(y_test), test_pred)\n",
    "\n",
    "rfc_Recall_Train = recall_score(np.array(y_train), train_pred)\n",
    "rfc_Recall_Test = recall_score(np.array(y_test), test_pred)\n",
    "\n",
    "rfc_f1_score_Train = f1_score(np.array(y_train), train_pred)\n",
    "rfc_f1_score_Test = f1_score(np.array(y_test), test_pred)\n",
    "\n",
    "rfc_ROC_AUC_Score_Train = roc_auc_score(np.array(y_train), train_pred)\n",
    "rfc_ROC_AUC_Score_Test = roc_auc_score(np.array(y_test), test_pred)\n",
    "\n",
    "rfc_cross_val_score_Train = list(cross_val_score(RFC_model, x_train_scaled, np.array(y_train), cv=KFold(n_splits=5,shuffle=True)) )\n",
    "\n",
    "\n",
    "# Extreme Gradient Boosting Metrics\n",
    "train_pred = XGB_Classifier_model.predict(x_train_scaled)\n",
    "test_pred = XGB_Classifier_model.predict(x_test_scaled)\n",
    "\n",
    "xgbc_Accuracy_Train = accuracy_score(np.array(y_train), train_pred)\n",
    "xgbc_Accuracy_Test = accuracy_score(np.array(y_test), test_pred)\n",
    "\n",
    "xgbc_Precision_Train = precision_score(np.array(y_train), train_pred)\n",
    "xgbc_Precision_Test = precision_score(np.array(y_test), test_pred)\n",
    "\n",
    "xgbc_Recall_Train = recall_score(np.array(y_train), train_pred)\n",
    "xgbc_Recall_Test = recall_score(np.array(y_test), test_pred)\n",
    "\n",
    "xgbc_f1_score_Train = f1_score(np.array(y_train), train_pred)\n",
    "xgbc_f1_score_Test = f1_score(np.array(y_test), test_pred)\n",
    "\n",
    "xgbc_ROC_AUC_Score_Train = roc_auc_score(np.array(y_train), train_pred)\n",
    "xgbc_ROC_AUC_Score_Test = roc_auc_score(np.array(y_test), test_pred)\n",
    "\n",
    "xgbc_cross_val_score_Train = list(cross_val_score(XGB_Classifier_model, x_train_scaled, np.array(y_train), cv=KFold(n_splits=5,shuffle=True)) )\n",
    "\n",
    "\n",
    "# Decision Tree Metrics\n",
    "train_pred = DTC_model.predict(x_train_scaled)\n",
    "test_pred = DTC_model.predict(x_test_scaled)\n",
    "\n",
    "dtc_Accuracy_Train = accuracy_score(np.array(y_train), train_pred)\n",
    "dtc_Accuracy_Test = accuracy_score(np.array(y_test), test_pred)\n",
    "\n",
    "dtc_Precision_Train = precision_score(np.array(y_train), train_pred)\n",
    "dtc_Precision_Test = precision_score(np.array(y_test), test_pred)\n",
    "\n",
    "dtc_Recall_Train = recall_score(np.array(y_train), train_pred)\n",
    "dtc_Recall_Test = recall_score(np.array(y_test), test_pred)\n",
    "\n",
    "dtc_f1_score_Train = f1_score(np.array(y_train), train_pred)\n",
    "dtc_f1_score_Test = f1_score(np.array(y_test), test_pred)\n",
    "\n",
    "dtc_ROC_AUC_Score_Train = roc_auc_score(np.array(y_train), train_pred)\n",
    "dtc_ROC_AUC_Score_Test = roc_auc_score(np.array(y_test), test_pred)\n",
    "\n",
    "dtc_cross_val_score_Train = list(cross_val_score(DTC_model, x_train_scaled, np.array(y_train), cv=KFold(n_splits=5,shuffle=True)) )\n",
    "\n",
    "\n",
    "#Extra Trees Classifier Metrics\n",
    "train_pred = ExtraTreesClassifier_model.predict(x_train_scaled)\n",
    "test_pred = ExtraTreesClassifier_model.predict(x_test_scaled)\n",
    "\n",
    "etc_Accuracy_Train = accuracy_score(np.array(y_train), train_pred)\n",
    "etc_Accuracy_Test = accuracy_score(np.array(y_test), test_pred)\n",
    "\n",
    "etc_Precision_Train = precision_score(np.array(y_train), train_pred)\n",
    "etc_Precision_Test = precision_score(np.array(y_test), test_pred)\n",
    "\n",
    "etc_Recall_Train = recall_score(np.array(y_train), train_pred)\n",
    "etc_Recall_Test = recall_score(np.array(y_test), test_pred)\n",
    "\n",
    "etc_f1_score_Train = f1_score(np.array(y_train), train_pred)\n",
    "etc_f1_score_Test = f1_score(np.array(y_test), test_pred)\n",
    "\n",
    "etc_ROC_AUC_Score_Train = roc_auc_score(np.array(y_train), train_pred)\n",
    "etc_ROC_AUC_Score_Test = roc_auc_score(np.array(y_test), test_pred)\n",
    "\n",
    "etc_cross_val_score_Train = list(cross_val_score(ExtraTreesClassifier_model, x_train_scaled, np.array(y_train), cv=KFold(n_splits=5,shuffle=True)) )\n",
    "\n",
    "\n",
    "#GaussianNB Metrics\n",
    "\n",
    "train_pred = GaussianNB_model.predict(x_train_scaled)\n",
    "test_pred = GaussianNB_model.predict(x_test_scaled)\n",
    "\n",
    "gnb_Accuracy_Train = accuracy_score(np.array(y_train), train_pred)\n",
    "gnb_Accuracy_Test = accuracy_score(np.array(y_test), test_pred)\n",
    "\n",
    "gnb_Precision_Train = precision_score(np.array(y_train), train_pred)\n",
    "gnb_Precision_Test = precision_score(np.array(y_test), test_pred)\n",
    "\n",
    "gnb_Recall_Train = recall_score(np.array(y_train), train_pred)\n",
    "gnb_Recall_Test = recall_score(np.array(y_test), test_pred)\n",
    "\n",
    "gnb_f1_score_Train = f1_score(np.array(y_train), train_pred)\n",
    "gnb_f1_score_Test = f1_score(np.array(y_test), test_pred)\n",
    "\n",
    "gnb_ROC_AUC_Score_Train = roc_auc_score(np.array(y_train), train_pred)\n",
    "gnb_ROC_AUC_Score_Test = roc_auc_score(np.array(y_test), test_pred)\n",
    "\n",
    "gnb_cross_val_score_Train = list(cross_val_score(GaussianNB_model, x_train_scaled, np.array(y_train), cv=KFold(n_splits=5,shuffle=True)) )"
   ]
  },
  {
   "cell_type": "code",
   "execution_count": 41,
   "id": "94630a81",
   "metadata": {
    "scrolled": true
   },
   "outputs": [
    {
     "data": {
      "text/html": [
       "<div>\n",
       "<style scoped>\n",
       "    .dataframe tbody tr th:only-of-type {\n",
       "        vertical-align: middle;\n",
       "    }\n",
       "\n",
       "    .dataframe tbody tr th {\n",
       "        vertical-align: top;\n",
       "    }\n",
       "\n",
       "    .dataframe thead th {\n",
       "        text-align: right;\n",
       "    }\n",
       "</style>\n",
       "<table border=\"1\" class=\"dataframe\">\n",
       "  <thead>\n",
       "    <tr style=\"text-align: right;\">\n",
       "      <th></th>\n",
       "      <th>Model</th>\n",
       "      <th>Train Accuracy</th>\n",
       "      <th>Test Accuracy</th>\n",
       "      <th>Train Precision</th>\n",
       "      <th>Test Precision</th>\n",
       "      <th>Train Recall</th>\n",
       "      <th>Test Recall</th>\n",
       "      <th>Train F1_score</th>\n",
       "      <th>Test F1_score</th>\n",
       "      <th>Train AUC_ROC</th>\n",
       "      <th>Test AUC_ROC</th>\n",
       "      <th>Cross_Validation_Scores_for_trainset</th>\n",
       "    </tr>\n",
       "  </thead>\n",
       "  <tbody>\n",
       "    <tr>\n",
       "      <th>5</th>\n",
       "      <td>Gradient Boosting Classifier</td>\n",
       "      <td>0.902273</td>\n",
       "      <td>0.784832</td>\n",
       "      <td>0.904930</td>\n",
       "      <td>0.751092</td>\n",
       "      <td>0.872666</td>\n",
       "      <td>0.725738</td>\n",
       "      <td>0.888505</td>\n",
       "      <td>0.738197</td>\n",
       "      <td>0.899397</td>\n",
       "      <td>0.776506</td>\n",
       "      <td>[0.7803030303030303, 0.7386363636363636, 0.75,...</td>\n",
       "    </tr>\n",
       "    <tr>\n",
       "      <th>8</th>\n",
       "      <td>XGB Classifier</td>\n",
       "      <td>0.987879</td>\n",
       "      <td>0.768959</td>\n",
       "      <td>0.989744</td>\n",
       "      <td>0.726496</td>\n",
       "      <td>0.983022</td>\n",
       "      <td>0.717300</td>\n",
       "      <td>0.986371</td>\n",
       "      <td>0.721868</td>\n",
       "      <td>0.987407</td>\n",
       "      <td>0.761680</td>\n",
       "      <td>[0.7651515151515151, 0.7727272727272727, 0.806...</td>\n",
       "    </tr>\n",
       "    <tr>\n",
       "      <th>2</th>\n",
       "      <td>NuSVC</td>\n",
       "      <td>0.921212</td>\n",
       "      <td>0.761905</td>\n",
       "      <td>0.933810</td>\n",
       "      <td>0.716102</td>\n",
       "      <td>0.886248</td>\n",
       "      <td>0.713080</td>\n",
       "      <td>0.909408</td>\n",
       "      <td>0.714588</td>\n",
       "      <td>0.917816</td>\n",
       "      <td>0.755025</td>\n",
       "      <td>[0.7613636363636364, 0.7537878787878788, 0.761...</td>\n",
       "    </tr>\n",
       "    <tr>\n",
       "      <th>7</th>\n",
       "      <td>Random Forest Classifier</td>\n",
       "      <td>0.924242</td>\n",
       "      <td>0.758377</td>\n",
       "      <td>0.976608</td>\n",
       "      <td>0.731481</td>\n",
       "      <td>0.850594</td>\n",
       "      <td>0.666667</td>\n",
       "      <td>0.909256</td>\n",
       "      <td>0.697572</td>\n",
       "      <td>0.917089</td>\n",
       "      <td>0.745455</td>\n",
       "      <td>[0.8181818181818182, 0.7575757575757576, 0.757...</td>\n",
       "    </tr>\n",
       "    <tr>\n",
       "      <th>10</th>\n",
       "      <td>Extra Trees Classifier</td>\n",
       "      <td>0.873485</td>\n",
       "      <td>0.730159</td>\n",
       "      <td>0.973094</td>\n",
       "      <td>0.730769</td>\n",
       "      <td>0.736842</td>\n",
       "      <td>0.561181</td>\n",
       "      <td>0.838647</td>\n",
       "      <td>0.634845</td>\n",
       "      <td>0.860213</td>\n",
       "      <td>0.706348</td>\n",
       "      <td>[0.7689393939393939, 0.7651515151515151, 0.731...</td>\n",
       "    </tr>\n",
       "    <tr>\n",
       "      <th>1</th>\n",
       "      <td>Support Vector Classifier</td>\n",
       "      <td>0.762879</td>\n",
       "      <td>0.714286</td>\n",
       "      <td>0.781633</td>\n",
       "      <td>0.681159</td>\n",
       "      <td>0.650255</td>\n",
       "      <td>0.594937</td>\n",
       "      <td>0.709917</td>\n",
       "      <td>0.635135</td>\n",
       "      <td>0.751940</td>\n",
       "      <td>0.697468</td>\n",
       "      <td>[0.7045454545454546, 0.7121212121212122, 0.700...</td>\n",
       "    </tr>\n",
       "    <tr>\n",
       "      <th>4</th>\n",
       "      <td>KNeighbors Classifier</td>\n",
       "      <td>0.808333</td>\n",
       "      <td>0.712522</td>\n",
       "      <td>0.855932</td>\n",
       "      <td>0.688776</td>\n",
       "      <td>0.685908</td>\n",
       "      <td>0.569620</td>\n",
       "      <td>0.761546</td>\n",
       "      <td>0.623557</td>\n",
       "      <td>0.796443</td>\n",
       "      <td>0.692386</td>\n",
       "      <td>[0.6856060606060606, 0.7083333333333334, 0.681...</td>\n",
       "    </tr>\n",
       "    <tr>\n",
       "      <th>6</th>\n",
       "      <td>Adaboost Classifier</td>\n",
       "      <td>0.726515</td>\n",
       "      <td>0.705467</td>\n",
       "      <td>0.703571</td>\n",
       "      <td>0.637795</td>\n",
       "      <td>0.668930</td>\n",
       "      <td>0.683544</td>\n",
       "      <td>0.685814</td>\n",
       "      <td>0.659878</td>\n",
       "      <td>0.720922</td>\n",
       "      <td>0.702378</td>\n",
       "      <td>[0.7045454545454546, 0.75, 0.6628787878787878,...</td>\n",
       "    </tr>\n",
       "    <tr>\n",
       "      <th>0</th>\n",
       "      <td>Logistic Regression</td>\n",
       "      <td>0.712121</td>\n",
       "      <td>0.684303</td>\n",
       "      <td>0.692449</td>\n",
       "      <td>0.621849</td>\n",
       "      <td>0.638370</td>\n",
       "      <td>0.624473</td>\n",
       "      <td>0.664311</td>\n",
       "      <td>0.623158</td>\n",
       "      <td>0.704958</td>\n",
       "      <td>0.675873</td>\n",
       "      <td>[0.6515151515151515, 0.75, 0.7045454545454546,...</td>\n",
       "    </tr>\n",
       "    <tr>\n",
       "      <th>9</th>\n",
       "      <td>Decision Tree Classifier</td>\n",
       "      <td>0.768182</td>\n",
       "      <td>0.668430</td>\n",
       "      <td>0.724960</td>\n",
       "      <td>0.594595</td>\n",
       "      <td>0.774194</td>\n",
       "      <td>0.649789</td>\n",
       "      <td>0.748768</td>\n",
       "      <td>0.620968</td>\n",
       "      <td>0.768766</td>\n",
       "      <td>0.665804</td>\n",
       "      <td>[0.696969696969697, 0.7121212121212122, 0.6590...</td>\n",
       "    </tr>\n",
       "    <tr>\n",
       "      <th>3</th>\n",
       "      <td>SGD Classifier</td>\n",
       "      <td>0.632576</td>\n",
       "      <td>0.649030</td>\n",
       "      <td>0.610169</td>\n",
       "      <td>0.597938</td>\n",
       "      <td>0.488964</td>\n",
       "      <td>0.489451</td>\n",
       "      <td>0.542884</td>\n",
       "      <td>0.538283</td>\n",
       "      <td>0.618627</td>\n",
       "      <td>0.626544</td>\n",
       "      <td>[0.6287878787878788, 0.625, 0.6439393939393939...</td>\n",
       "    </tr>\n",
       "    <tr>\n",
       "      <th>11</th>\n",
       "      <td>Gaussian Naive Bayes</td>\n",
       "      <td>0.484091</td>\n",
       "      <td>0.456790</td>\n",
       "      <td>0.463722</td>\n",
       "      <td>0.434381</td>\n",
       "      <td>0.998302</td>\n",
       "      <td>0.991561</td>\n",
       "      <td>0.633279</td>\n",
       "      <td>0.604113</td>\n",
       "      <td>0.534035</td>\n",
       "      <td>0.532144</td>\n",
       "      <td>[0.4659090909090909, 0.4393939393939394, 0.507...</td>\n",
       "    </tr>\n",
       "  </tbody>\n",
       "</table>\n",
       "</div>"
      ],
      "text/plain": [
       "                           Model  Train Accuracy  Test Accuracy  \\\n",
       "5   Gradient Boosting Classifier        0.902273       0.784832   \n",
       "8                 XGB Classifier        0.987879       0.768959   \n",
       "2                          NuSVC        0.921212       0.761905   \n",
       "7       Random Forest Classifier        0.924242       0.758377   \n",
       "10        Extra Trees Classifier        0.873485       0.730159   \n",
       "1      Support Vector Classifier        0.762879       0.714286   \n",
       "4          KNeighbors Classifier        0.808333       0.712522   \n",
       "6            Adaboost Classifier        0.726515       0.705467   \n",
       "0            Logistic Regression        0.712121       0.684303   \n",
       "9       Decision Tree Classifier        0.768182       0.668430   \n",
       "3                 SGD Classifier        0.632576       0.649030   \n",
       "11          Gaussian Naive Bayes        0.484091       0.456790   \n",
       "\n",
       "    Train Precision  Test Precision  Train Recall  Test Recall  \\\n",
       "5          0.904930        0.751092      0.872666     0.725738   \n",
       "8          0.989744        0.726496      0.983022     0.717300   \n",
       "2          0.933810        0.716102      0.886248     0.713080   \n",
       "7          0.976608        0.731481      0.850594     0.666667   \n",
       "10         0.973094        0.730769      0.736842     0.561181   \n",
       "1          0.781633        0.681159      0.650255     0.594937   \n",
       "4          0.855932        0.688776      0.685908     0.569620   \n",
       "6          0.703571        0.637795      0.668930     0.683544   \n",
       "0          0.692449        0.621849      0.638370     0.624473   \n",
       "9          0.724960        0.594595      0.774194     0.649789   \n",
       "3          0.610169        0.597938      0.488964     0.489451   \n",
       "11         0.463722        0.434381      0.998302     0.991561   \n",
       "\n",
       "    Train F1_score  Test F1_score  Train AUC_ROC  Test AUC_ROC  \\\n",
       "5         0.888505       0.738197       0.899397      0.776506   \n",
       "8         0.986371       0.721868       0.987407      0.761680   \n",
       "2         0.909408       0.714588       0.917816      0.755025   \n",
       "7         0.909256       0.697572       0.917089      0.745455   \n",
       "10        0.838647       0.634845       0.860213      0.706348   \n",
       "1         0.709917       0.635135       0.751940      0.697468   \n",
       "4         0.761546       0.623557       0.796443      0.692386   \n",
       "6         0.685814       0.659878       0.720922      0.702378   \n",
       "0         0.664311       0.623158       0.704958      0.675873   \n",
       "9         0.748768       0.620968       0.768766      0.665804   \n",
       "3         0.542884       0.538283       0.618627      0.626544   \n",
       "11        0.633279       0.604113       0.534035      0.532144   \n",
       "\n",
       "                 Cross_Validation_Scores_for_trainset  \n",
       "5   [0.7803030303030303, 0.7386363636363636, 0.75,...  \n",
       "8   [0.7651515151515151, 0.7727272727272727, 0.806...  \n",
       "2   [0.7613636363636364, 0.7537878787878788, 0.761...  \n",
       "7   [0.8181818181818182, 0.7575757575757576, 0.757...  \n",
       "10  [0.7689393939393939, 0.7651515151515151, 0.731...  \n",
       "1   [0.7045454545454546, 0.7121212121212122, 0.700...  \n",
       "4   [0.6856060606060606, 0.7083333333333334, 0.681...  \n",
       "6   [0.7045454545454546, 0.75, 0.6628787878787878,...  \n",
       "0   [0.6515151515151515, 0.75, 0.7045454545454546,...  \n",
       "9   [0.696969696969697, 0.7121212121212122, 0.6590...  \n",
       "3   [0.6287878787878788, 0.625, 0.6439393939393939...  \n",
       "11  [0.4659090909090909, 0.4393939393939394, 0.507...  "
      ]
     },
     "execution_count": 41,
     "metadata": {},
     "output_type": "execute_result"
    }
   ],
   "source": [
    "models_classifier_comparison = pd.DataFrame({\n",
    "    'Model'          : ['Logistic Regression', 'Support Vector Classifier', 'NuSVC', 'SGD Classifier', 'KNeighbors Classifier', 'Gradient Boosting Classifier', 'Adaboost Classifier', 'Random Forest Classifier', 'XGB Classifier', 'Decision Tree Classifier', 'Extra Trees Classifier', 'Gaussian Naive Bayes'],\n",
    "    'Train Accuracy' : [lr_Accuracy_Train, svc_Accuracy_Train, nusvc_Accuracy_Train, sgd_Accuracy_Train, knc_Accuracy_Train, gbc_Accuracy_Train,abc_Accuracy_Train, rfc_Accuracy_Train, xgbc_Accuracy_Train, dtc_Accuracy_Train,etc_Accuracy_Train,gnb_Accuracy_Train],\n",
    "    'Test Accuracy'  : [lr_Accuracy_Test, svc_Accuracy_Test, nusvc_Accuracy_Test, sgd_Accuracy_Test, knc_Accuracy_Test, gbc_Accuracy_Test,abc_Accuracy_Test, rfc_Accuracy_Test, xgbc_Accuracy_Test, dtc_Accuracy_Test,etc_Accuracy_Test,gnb_Accuracy_Test],\n",
    "    'Train Precision': [lr_Precision_Train, svc_Precision_Train, nusvc_Precision_Train, sgd_Precision_Train, knc_Precision_Train, gbc_Precision_Train,abc_Precision_Train, rfc_Precision_Train, xgbc_Precision_Train, dtc_Precision_Train,etc_Precision_Train,gnb_Precision_Train],\n",
    "    'Test Precision' : [lr_Precision_Test, svc_Precision_Test, nusvc_Precision_Test, sgd_Precision_Test, knc_Precision_Test, gbc_Precision_Test,abc_Precision_Test, rfc_Precision_Test, xgbc_Precision_Test, dtc_Precision_Test,etc_Precision_Test,gnb_Precision_Test],\n",
    "    'Train Recall'   : [lr_Recall_Train, svc_Recall_Train, nusvc_Recall_Train, sgd_Recall_Train, knc_Recall_Train, gbc_Recall_Train,abc_Recall_Train, rfc_Recall_Train, xgbc_Recall_Train, dtc_Recall_Train,etc_Recall_Train,gnb_Recall_Train],\n",
    "    'Test Recall'    : [lr_Recall_Test, svc_Recall_Test, nusvc_Recall_Test, sgd_Recall_Test, knc_Recall_Test, gbc_Recall_Test,abc_Recall_Test, rfc_Recall_Test, xgbc_Recall_Test, dtc_Recall_Test,etc_Recall_Test,gnb_Recall_Test],\n",
    "    'Train F1_score' : [lr_f1_score_Train, svc_f1_score_Train, nusvc_f1_score_Train, sgd_f1_score_Train, knc_f1_score_Train, gbc_f1_score_Train,abc_f1_score_Train, rfc_f1_score_Train, xgbc_f1_score_Train, dtc_f1_score_Train,etc_f1_score_Train,gnb_f1_score_Train],\n",
    "    'Test F1_score'  : [lr_f1_score_Test, svc_f1_score_Test, nusvc_f1_score_Test, sgd_f1_score_Test, knc_f1_score_Test, gbc_f1_score_Test,abc_f1_score_Test, rfc_f1_score_Test, xgbc_f1_score_Test, dtc_f1_score_Test,etc_f1_score_Test,gnb_f1_score_Test],\n",
    "    'Train AUC_ROC'  : [lr_ROC_AUC_Score_Train, svc_ROC_AUC_Score_Train, nusvc_ROC_AUC_Score_Train, sgd_ROC_AUC_Score_Train, knc_ROC_AUC_Score_Train, gbc_ROC_AUC_Score_Train,abc_ROC_AUC_Score_Train, rfc_ROC_AUC_Score_Train, xgbc_ROC_AUC_Score_Train, dtc_ROC_AUC_Score_Train,etc_ROC_AUC_Score_Train,gnb_ROC_AUC_Score_Train],\n",
    "    'Test AUC_ROC'   : [lr_ROC_AUC_Score_Test, svc_ROC_AUC_Score_Test, nusvc_ROC_AUC_Score_Test, sgd_ROC_AUC_Score_Test, knc_ROC_AUC_Score_Test, gbc_ROC_AUC_Score_Test,abc_ROC_AUC_Score_Test, rfc_ROC_AUC_Score_Test, xgbc_ROC_AUC_Score_Test, dtc_ROC_AUC_Score_Test,etc_ROC_AUC_Score_Test,gnb_ROC_AUC_Score_Test],\n",
    "    'Cross_Validation_Scores_for_trainset':[lr_cross_val_score_Train, svc_cross_val_score_Train, nusvc_cross_val_score_Train, sgd_cross_val_score_Train, knc_cross_val_score_Train, gbc_cross_val_score_Train,abc_cross_val_score_Train, rfc_cross_val_score_Train, xgbc_cross_val_score_Train, dtc_cross_val_score_Train,etc_cross_val_score_Train,gnb_cross_val_score_Train],\n",
    "    \n",
    "    }, columns = ['Model', 'Train Accuracy', 'Test Accuracy', 'Train Precision', 'Test Precision', 'Train Recall', 'Test Recall', 'Train F1_score', 'Test F1_score', 'Train AUC_ROC', 'Test AUC_ROC', 'Cross_Validation_Scores_for_trainset'])\n",
    "\n",
    "models_classifier_comparison.sort_values(by='Test Accuracy', ascending=False)"
   ]
  },
  {
   "cell_type": "code",
   "execution_count": 43,
   "id": "8536080c",
   "metadata": {},
   "outputs": [
    {
     "name": "stdout",
     "output_type": "stream",
     "text": [
      "[00:20:09] WARNING: C:/Users/Administrator/workspace/xgboost-win64_release_1.5.1/src/learner.cc:1115: Starting in XGBoost 1.3.0, the default evaluation metric used with the objective 'binary:logistic' was changed from 'error' to 'logloss'. Explicitly set eval_metric if you'd like to restore the old behavior.\n"
     ]
    },
    {
     "data": {
      "image/png": "[encoded data removed]",
      "text/plain": [
       "<Figure size 576x396 with 1 Axes>"
      ]
     },
     "metadata": {},
     "output_type": "display_data"
    }
   ],
   "source": [
    "pred_prob1 = lr_model.fit(x_train_scaled, y_train).predict_proba(x_test_scaled)\n",
    "pred_prob2 = svc_model.fit(x_train_scaled, y_train).predict_proba(x_test_scaled)\n",
    "pred_prob3 = nusvc_model.fit(x_train_scaled, y_train).predict_proba(x_test_scaled)\n",
    "pred_prob4 = sgd_model.fit(x_train_scaled, y_train).predict_proba(x_test_scaled)\n",
    "pred_prob5 = kneighbors_model.fit(x_train_scaled, y_train).predict_proba(x_test_scaled)\n",
    "pred_prob6 = gradientBoosting_model.fit(x_train_scaled, y_train).predict_proba(x_test_scaled)\n",
    "pred_prob7 = AdaBoost_model.fit(x_train_scaled, y_train).predict_proba(x_test_scaled)\n",
    "pred_prob8 = RFC_model.fit(x_train_scaled, y_train).predict_proba(x_test_scaled)\n",
    "pred_prob9 = XGB_Classifier_model.fit(x_train_scaled, y_train).predict_proba(x_test_scaled)\n",
    "pred_prob10 = DTC_model.fit(x_train_scaled, y_train).predict_proba(x_test_scaled)\n",
    "pred_prob11 = ExtraTreesClassifier_model.fit(x_train_scaled, y_train).predict_proba(x_test_scaled)\n",
    "pred_prob12 = GaussianNB_model.fit(x_train_scaled, y_train).predict_proba(x_test_scaled)\n",
    "\n",
    "from sklearn.metrics import roc_curve\n",
    "\n",
    "# roc curve for models\n",
    "fpr1, tpr1, thresh1 = roc_curve(y_test, pred_prob1[:,1], pos_label=1)\n",
    "fpr2, tpr2, thresh2 = roc_curve(y_test, pred_prob2[:,1], pos_label=1)\n",
    "fpr3, tpr3, thresh3 = roc_curve(y_test, pred_prob3[:,1], pos_label=1)\n",
    "fpr4, tpr4, thresh4 = roc_curve(y_test, pred_prob4[:,1], pos_label=1)\n",
    "fpr5, tpr5, thresh5 = roc_curve(y_test, pred_prob5[:,1], pos_label=1)\n",
    "fpr6, tpr6, thresh6 = roc_curve(y_test, pred_prob6[:,1], pos_label=1)\n",
    "fpr7, tpr7, thresh7 = roc_curve(y_test, pred_prob7[:,1], pos_label=1)\n",
    "fpr8, tpr8, thresh8 = roc_curve(y_test, pred_prob8[:,1], pos_label=1)\n",
    "fpr9, tpr9, thresh9 = roc_curve(y_test, pred_prob9[:,1], pos_label=1)\n",
    "fpr10, tpr10, thresh10 = roc_curve(y_test, pred_prob10[:,1], pos_label=1)\n",
    "fpr11, tpr11, thresh11 = roc_curve(y_test, pred_prob11[:,1], pos_label=1)\n",
    "fpr12, tpr12, thresh12 = roc_curve(y_test, pred_prob12[:,1], pos_label=1)\n",
    "\n",
    "# roc curve for tpr = fpr \n",
    "random_probs = [0 for i in range(len(y_test))]\n",
    "p_fpr, p_tpr, _ = roc_curve(y_test, random_probs, pos_label=1)\n",
    "\n",
    "import matplotlib.pyplot as plt\n",
    "plt.style.use('seaborn')\n",
    "\n",
    "# plot roc curves\n",
    "plt.plot(fpr1, tpr1, linestyle='--',color='orange', label='LOGISTIC REGRESSION')\n",
    "plt.plot(fpr2, tpr2, linestyle='--',color='green', label='Support Vector Classifier')\n",
    "plt.plot(fpr3, tpr3, linestyle='--',color='red', label='NuSVC')\n",
    "plt.plot(fpr4, tpr4, linestyle='--',color='purple', label='SGD Classifier')\n",
    "plt.plot(fpr5, tpr5, linestyle='--',color='yellow', label='KNeighbors Classifier')\n",
    "plt.plot(fpr5, tpr5, linestyle='--',color='grey', label='Gradient Boosting Classifier')\n",
    "plt.plot(fpr7, tpr7, linestyle='--',color='violet', label='Adaboost Classifier')\n",
    "plt.plot(fpr8, tpr8, linestyle='--',color='#440154', label='Random Forest Classifier')\n",
    "plt.plot(fpr9, tpr9, linestyle='--',color='#404387', label='XGB Classifier')\n",
    "plt.plot(fpr10, tpr10, linestyle='--',color='#29788E', label='Decision Tree Classifier')\n",
    "plt.plot(fpr11, tpr11, linestyle='--',color='#22A784', label='Extra Trees Classifier')\n",
    "plt.plot(fpr12, tpr12, linestyle='--',color='#79D151', label='Gaussian Naive Bayes Classifier')\n",
    "plt.plot(p_fpr, p_tpr, linestyle='--', color='blue')\n",
    "# title\n",
    "plt.title('ROC curve')\n",
    "# x label\n",
    "plt.xlabel('False Positive Rate')\n",
    "# y label\n",
    "plt.ylabel('True Positive rate')\n",
    "\n",
    "plt.legend(loc='best')\n",
    "plt.savefig('ROC',dpi=300)\n",
    "plt.show();"
   ]
  },
  {
   "cell_type": "code",
   "execution_count": 44,
   "id": "470e1eb4",
   "metadata": {},
   "outputs": [],
   "source": [
    "models_classifier_comparison.to_csv(\"C:/Users/anike/OneDrive/Desktop/DL_project/Design-of-High-Strength-HEAs-using-Machine-Learning/HEA_New_Folder/Saved Models/Classifier Models/random_state_0/HEA_Classifier_results_dataframe.csv\")"
   ]
  },
  {
   "cell_type": "markdown",
   "id": "8ea9d1a2",
   "metadata": {},
   "source": [
    "## Regression\n",
    "---\n",
    "This submodule is used to predict the bulk modulus values for the inputs "
   ]
  },
  {
   "cell_type": "code",
   "execution_count": 11,
   "id": "b7d98441",
   "metadata": {},
   "outputs": [],
   "source": [
    "import numpy as np\n",
    "import pandas as pd\n",
    "import matplotlib.pyplot as plt\n",
    "import seaborn as sns\n",
    "\n",
    "from sklearn.ensemble import RandomForestRegressor\n",
    "from sklearn.metrics import r2_score\n",
    "from sklearn.linear_model import LinearRegression\n",
    "from sklearn.svm import SVR\n",
    "from sklearn.tree import DecisionTreeRegressor\n",
    "from xgboost import XGBRegressor\n",
    "from sklearn.metrics import mean_squared_error as mse\n",
    "from sklearn.model_selection import cross_val_score\n",
    "from sklearn.model_selection import GridSearchCV,RandomizedSearchCV\n",
    "from sklearn.model_selection import KFold\n",
    "from hypopt import GridSearch\n",
    "from sklearn import linear_model\n",
    "from sklearn.linear_model import Ridge\n",
    "from sklearn.svm import SVR\n",
    "from sklearn.metrics import mean_squared_error\n",
    "from sklearn.metrics import mean_absolute_error as mae \n",
    "from sklearn.neighbors import KNeighborsRegressor\n",
    "import pickle"
   ]
  },
  {
   "cell_type": "markdown",
   "id": "7e0d2fde",
   "metadata": {},
   "source": [
    "Data Loading and Scaling"
   ]
  },
  {
   "cell_type": "code",
   "execution_count": 12,
   "id": "a3ca1bed",
   "metadata": {},
   "outputs": [
    {
     "name": "stdout",
     "output_type": "stream",
     "text": [
      "False\n"
     ]
    },
    {
     "data": {
      "text/plain": [
       "Index(['Unnamed: 0', 'Alloy', 'S_Phase', 'BulkModulus (GPa)', 'Ag', 'Al', 'As',\n",
       "       'Au', 'B', 'Ba', 'Be', 'Bi', 'Br', 'C', 'Ca', 'Cd', 'Ce', 'Cl', 'Co',\n",
       "       'Cr', 'Cs', 'Cu', 'Dy', 'Er', 'Eu', 'F', 'Fe', 'Ga', 'Gd', 'Ge', 'H',\n",
       "       'Hf', 'Hg', 'Ho', 'I', 'In', 'Ir', 'K', 'La', 'Li', 'Lu', 'Mg', 'Mn',\n",
       "       'Mo', 'N', 'Na', 'Nb', 'Nd', 'Ne', 'Ni', 'Ns', 'O', 'Os', 'P', 'Pb',\n",
       "       'Pd', 'Pr', 'Pt', 'Rb', 'Re', 'Rh', 'Ru', 'S', 'Sb', 'Sc', 'Se', 'Si',\n",
       "       'Sm', 'Sn', 'Sr', 'Ta', 'Tb', 'Te', 'Ti', 'Tl', 'Tm', 'V', 'W', 'Y',\n",
       "       'Yb', 'Zn', 'Zr'],\n",
       "      dtype='object')"
      ]
     },
     "execution_count": 12,
     "metadata": {},
     "output_type": "execute_result"
    }
   ],
   "source": [
    "bulk_hea = pd.read_csv(\"C:/Users/anike/OneDrive/Desktop/DL_project/Design-of-High-Strength-HEAs-using-Machine-Learning/HEA_New_Folder/Datasets/HEA_BulkModulus.csv\")\n",
    "bulk_hea.fillna(str(0), inplace = True)#Checked manually due to some internal error, Ag is getting NaNs instead of 0s so replaced them. \n",
    "print(bulk_hea.isnull().values.any())\n",
    "bulk_hea.columns"
   ]
  },
  {
   "cell_type": "code",
   "execution_count": 13,
   "id": "b4503491",
   "metadata": {},
   "outputs": [
    {
     "data": {
      "text/plain": [
       "{'AM', 'AM+IM', 'IM', 'IM+SS', 'SS', 'SS+IM'}"
      ]
     },
     "execution_count": 13,
     "metadata": {},
     "output_type": "execute_result"
    }
   ],
   "source": [
    "set(bulk_hea[\"S_Phase\"])"
   ]
  },
  {
   "cell_type": "code",
   "execution_count": 14,
   "id": "fadc797c",
   "metadata": {},
   "outputs": [
    {
     "data": {
      "text/plain": [
       "Index(['Unnamed: 0', 'Alloy', 'BulkModulus (GPa)', 'Ag', 'Al', 'As', 'Au', 'B',\n",
       "       'Ba', 'Be', 'Bi', 'Br', 'C', 'Ca', 'Cd', 'Ce', 'Cl', 'Co', 'Cr', 'Cs',\n",
       "       'Cu', 'Dy', 'Er', 'Eu', 'F', 'Fe', 'Ga', 'Gd', 'Ge', 'H', 'Hf', 'Hg',\n",
       "       'Ho', 'I', 'In', 'Ir', 'K', 'La', 'Li', 'Lu', 'Mg', 'Mn', 'Mo', 'N',\n",
       "       'Na', 'Nb', 'Nd', 'Ne', 'Ni', 'Ns', 'O', 'Os', 'P', 'Pb', 'Pd', 'Pr',\n",
       "       'Pt', 'Rb', 'Re', 'Rh', 'Ru', 'S', 'Sb', 'Sc', 'Se', 'Si', 'Sm', 'Sn',\n",
       "       'Sr', 'Ta', 'Tb', 'Te', 'Ti', 'Tl', 'Tm', 'V', 'W', 'Y', 'Yb', 'Zn',\n",
       "       'Zr', 'S_Phase_AM', 'S_Phase_AM+IM', 'S_Phase_IM', 'S_Phase_IM+SS',\n",
       "       'S_Phase_SS', 'S_Phase_SS+IM'],\n",
       "      dtype='object')"
      ]
     },
     "execution_count": 14,
     "metadata": {},
     "output_type": "execute_result"
    }
   ],
   "source": [
    "one_hot_encoded_data = pd.get_dummies(bulk_hea, columns = ['S_Phase'])\n",
    "one_hot_encoded_data.columns"
   ]
  },
  {
   "cell_type": "code",
   "execution_count": 15,
   "id": "f94ac0a7",
   "metadata": {},
   "outputs": [],
   "source": [
    "features = ['S_Phase_AM', 'S_Phase_AM+IM', 'S_Phase_IM', 'S_Phase_IM+SS','S_Phase_SS', 'S_Phase_SS+IM', 'Ag', 'Al', 'As','Au', 'B', 'Ba', 'Be', 'Bi', 'Br', 'C', 'Ca', 'Cd', 'Ce', 'Cl', 'Co','Cr', 'Cs', 'Cu', 'Dy', 'Er', 'Eu', 'F', 'Fe', 'Ga', 'Gd', 'Ge', 'H','Hf', 'Hg', 'Ho', 'I', 'In', 'Ir', 'K', 'La', 'Li', 'Lu', 'Mg', 'Mn','Mo', 'N', 'Na', 'Nb', 'Nd', 'Ne', 'Ni', 'Ns', 'O', 'Os', 'P', 'Pb','Pd', 'Pr', 'Pt', 'Rb', 'Re', 'Rh', 'Ru', 'S', 'Sb', 'Sc', 'Se', 'Si','Sm', 'Sn', 'Sr', 'Ta', 'Tb', 'Te', 'Ti', 'Tl', 'Tm', 'V', 'W', 'Y','Yb', 'Zn', 'Zr']\n",
    "X = one_hot_encoded_data[features]#, errors = 'ignore'.astype('float').values\n",
    "y = one_hot_encoded_data['BulkModulus (GPa)'].values\n",
    "X_train, X_test, y_train, y_test = train_test_split(X, y, random_state=0, train_size = .70)\n",
    "\n",
    "X_train.to_csv(\"C:/Users/anike/OneDrive/Desktop/DL_project/Design-of-High-Strength-HEAs-using-Machine-Learning/HEA_New_Folder/Datasets/Regressor_sets/random_state_0/Regressor_X_train.csv\", index=False)\n",
    "X_test.to_csv(\"C:/Users/anike/OneDrive/Desktop/DL_project/Design-of-High-Strength-HEAs-using-Machine-Learning/HEA_New_Folder/Datasets/Regressor_sets/random_state_0/Regressor_X_test.csv\", index=False)\n",
    "pd.DataFrame(y_train).to_csv(\"C:/Users/anike/OneDrive/Desktop/DL_project/Design-of-High-Strength-HEAs-using-Machine-Learning/HEA_New_Folder/Datasets/Regressor_sets/random_state_0/Regressor_y_train.csv\", index=False)\n",
    "pd.DataFrame(y_test).to_csv(\"C:/Users/anike/OneDrive/Desktop/DL_project/Design-of-High-Strength-HEAs-using-Machine-Learning/HEA_New_Folder/Datasets/Regressor_sets/random_state_0/Regressor_y_test.csv\", index=False)"
   ]
  },
  {
   "cell_type": "code",
   "execution_count": 16,
   "id": "c88e1dc0",
   "metadata": {},
   "outputs": [
    {
     "name": "stdout",
     "output_type": "stream",
     "text": [
      "(804, 84) (804,) (345, 84) (345,)\n"
     ]
    }
   ],
   "source": [
    "from sklearn.preprocessing import StandardScaler\n",
    "# Defining Scaling\n",
    "scaler = StandardScaler()\n",
    "scaler.fit(X_train)\n",
    "\n",
    "x_train_scaled = scaler.transform(X_train)\n",
    "x_test_scaled = scaler.transform(X_test)\n",
    "\n",
    "import pickle\n",
    "pickle.dump(scaler, open('C:/Users/anike/OneDrive/Desktop/DL_project/Design-of-High-Strength-HEAs-using-Machine-Learning/HEA_New_Folder/Datasets/Scalars/random_state_0/regressor_sd_scaler.sav', 'wb'))\n",
    "\n",
    "print(x_train_scaled.shape, y_train.shape, x_test_scaled.shape, y_test.shape)"
   ]
  },
  {
   "cell_type": "code",
   "execution_count": 17,
   "id": "f2c7c703",
   "metadata": {},
   "outputs": [],
   "source": [
    "def RMSE(y_true,y_pred):\n",
    "  RMSE = np.sqrt(mean_squared_error(y_true,y_pred))\n",
    "  return RMSE\n",
    "\n",
    "def MSE(y_true,y_pred):\n",
    "    mse = mean_squared_error(y_true, y_pred)\n",
    "    #print 'MSE: %2.3f' % mse\n",
    "    return mse\n",
    "\n",
    "def adjusted_r_squared(X, y, r2_sc):\n",
    "  Adj_r2 = 1 - (1-r2_sc) * (len(y)-1)/(len(y)-X.shape[1]-1)\n",
    "  return Adj_r2\n",
    "\n",
    "def percentage_error(actual, predicted):\n",
    "    res = np.empty(actual.shape)\n",
    "    for j in range(actual.shape[0]):\n",
    "        if actual[j] != 0:\n",
    "            res[j] = (actual[j] - predicted[j]) / actual[j]\n",
    "        else:\n",
    "            res[j] = predicted[j] / np.mean(actual)\n",
    "    return res\n",
    "\n",
    "def MAPE(y_true, y_pred): \n",
    "    return np.mean(np.abs(percentage_error(np.asarray(y_true), np.asarray(y_pred)))) * 100"
   ]
  },
  {
   "cell_type": "markdown",
   "id": "6800bff9",
   "metadata": {},
   "source": [
    "Random Forest Regressor"
   ]
  },
  {
   "cell_type": "code",
   "execution_count": 18,
   "id": "2bf71f68",
   "metadata": {},
   "outputs": [],
   "source": [
    "n_estimators = [100, 150, 200, 250, 300, 350, 500]\n",
    "max_features = ['auto', 'sqrt']\n",
    "max_depth = [int(x) for x in range(5,90,5)]\n",
    "criterion = ['mse', 'mae']\n",
    "n_jobs = [-1]\n",
    "random_state = [42]\n",
    "\n",
    "\n",
    "random_grid = {'n_estimators': n_estimators,\n",
    "               'max_features': max_features,\n",
    "               'max_depth': max_depth,\n",
    "               \"criterion\":criterion,\n",
    "               'n_jobs':n_jobs,\n",
    "               'random_state':random_state\n",
    "               }\n",
    "\n",
    "rf_gsc = GridSearch(model=RandomForestRegressor(),param_grid=random_grid,cv_folds=5)    \n",
    "rf_model = rf_gsc.fit(x_train_scaled,y_train) #.values.ravel()"
   ]
  },
  {
   "cell_type": "code",
   "execution_count": 19,
   "id": "caaabe72",
   "metadata": {},
   "outputs": [
    {
     "data": {
      "text/plain": [
       "{'bootstrap': True,\n",
       " 'ccp_alpha': 0.0,\n",
       " 'criterion': 'mse',\n",
       " 'max_depth': 50,\n",
       " 'max_features': 'sqrt',\n",
       " 'max_leaf_nodes': None,\n",
       " 'max_samples': None,\n",
       " 'min_impurity_decrease': 0.0,\n",
       " 'min_impurity_split': None,\n",
       " 'min_samples_leaf': 1,\n",
       " 'min_samples_split': 2,\n",
       " 'min_weight_fraction_leaf': 0.0,\n",
       " 'n_estimators': 300,\n",
       " 'n_jobs': -1,\n",
       " 'oob_score': False,\n",
       " 'random_state': 42,\n",
       " 'verbose': 0,\n",
       " 'warm_start': False}"
      ]
     },
     "execution_count": 19,
     "metadata": {},
     "output_type": "execute_result"
    }
   ],
   "source": [
    "rf_model.get_params()"
   ]
  },
  {
   "attachments": {},
   "cell_type": "markdown",
   "id": "3196bb20",
   "metadata": {},
   "source": [
    "Extreme Gradient Boosting(XGB) Regressor "
   ]
  },
  {
   "cell_type": "code",
   "execution_count": 20,
   "id": "3aa8a346",
   "metadata": {},
   "outputs": [
    {
     "name": "stdout",
     "output_type": "stream",
     "text": [
      "[04:28:54] WARNING: C:/Users/Administrator/workspace/xgboost-win64_release_1.5.1/src/learner.cc:576: \n",
      "Parameters: { \"criterion\", \"early_stopping_rounds\" } might not be used.\n",
      "\n",
      "  This could be a false alarm, with some parameters getting used by language bindings but\n",
      "  then being mistakenly passed down to XGBoost core, or some parameter actually being used\n",
      "  but getting flagged wrongly here. Please open an issue if you find any such cases.\n",
      "\n",
      "\n"
     ]
    }
   ],
   "source": [
    "n_estimators = [int(x) for x in range(100,130,10)] # tradeoff b/w n_estimators and learning_rate\n",
    "learning_rate = [x for x in np.arange(0.3,0.6,0.1)]\n",
    "criterion = ['mae']\n",
    "early_stopping_rounds = [3]\n",
    "max_depth = [int(x) for x in range(2,10)] \n",
    "n_jobs = [-1]\n",
    "\n",
    "random_grid = {'n_estimators': n_estimators,\n",
    "               'learning_rate':learning_rate,\n",
    "               'max_depth': max_depth,\n",
    "               'criterion':criterion,\n",
    "               'early_stopping_rounds':early_stopping_rounds,\n",
    "               'n_jobs':n_jobs\n",
    "               },\n",
    "\n",
    "xgb_gsc = GridSearch(model=XGBRegressor(),param_grid=random_grid,cv_folds=5)    \n",
    "xgb_model = xgb_gsc.fit(x_train_scaled,y_train)"
   ]
  },
  {
   "cell_type": "code",
   "execution_count": 21,
   "id": "c1339435",
   "metadata": {},
   "outputs": [
    {
     "data": {
      "text/plain": [
       "{'objective': 'reg:squarederror',\n",
       " 'base_score': 0.5,\n",
       " 'booster': 'gbtree',\n",
       " 'colsample_bylevel': 1,\n",
       " 'colsample_bynode': 1,\n",
       " 'colsample_bytree': 1,\n",
       " 'enable_categorical': False,\n",
       " 'gamma': 0,\n",
       " 'gpu_id': -1,\n",
       " 'importance_type': None,\n",
       " 'interaction_constraints': '',\n",
       " 'learning_rate': 0.3,\n",
       " 'max_delta_step': 0,\n",
       " 'max_depth': 9,\n",
       " 'min_child_weight': 1,\n",
       " 'missing': nan,\n",
       " 'monotone_constraints': '()',\n",
       " 'n_estimators': 120,\n",
       " 'n_jobs': -1,\n",
       " 'num_parallel_tree': 1,\n",
       " 'predictor': 'auto',\n",
       " 'random_state': 0,\n",
       " 'reg_alpha': 0,\n",
       " 'reg_lambda': 1,\n",
       " 'scale_pos_weight': 1,\n",
       " 'subsample': 1,\n",
       " 'tree_method': 'exact',\n",
       " 'validate_parameters': 1,\n",
       " 'verbosity': None,\n",
       " 'criterion': 'mae',\n",
       " 'early_stopping_rounds': 3}"
      ]
     },
     "execution_count": 21,
     "metadata": {},
     "output_type": "execute_result"
    }
   ],
   "source": [
    "xgb_model.get_params()"
   ]
  },
  {
   "attachments": {},
   "cell_type": "markdown",
   "id": "9137b575",
   "metadata": {},
   "source": [
    "Linear Regression"
   ]
  },
  {
   "cell_type": "code",
   "execution_count": 22,
   "id": "4a965aac",
   "metadata": {},
   "outputs": [],
   "source": [
    "normalize = [True]\n",
    "n_jobs = [-1]\n",
    "\n",
    "random_grid = {'normalize':normalize, 'n_jobs':n_jobs}\n",
    "\n",
    "lr_gsc = GridSearch(model=LinearRegression(),param_grid=random_grid,cv_folds=5)    \n",
    "lr_model = lr_gsc.fit(x_train_scaled,y_train)\n"
   ]
  },
  {
   "cell_type": "code",
   "execution_count": 23,
   "id": "9ee3f201",
   "metadata": {},
   "outputs": [
    {
     "data": {
      "text/plain": [
       "{'copy_X': True,\n",
       " 'fit_intercept': True,\n",
       " 'n_jobs': -1,\n",
       " 'normalize': True,\n",
       " 'positive': False}"
      ]
     },
     "execution_count": 23,
     "metadata": {},
     "output_type": "execute_result"
    }
   ],
   "source": [
    "lr_model.get_params()"
   ]
  },
  {
   "attachments": {},
   "cell_type": "markdown",
   "id": "853a0645",
   "metadata": {},
   "source": [
    "Lasso Regression"
   ]
  },
  {
   "cell_type": "code",
   "execution_count": 24,
   "id": "826edd3a",
   "metadata": {},
   "outputs": [],
   "source": [
    "alpha=[x for x in np.arange(0.1,1,0.1)]\n",
    "random_state = [42] \n",
    "\n",
    "random_grid = {'alpha':alpha, 'random_state':random_state}\n",
    "\n",
    "lasso_r_gsc = GridSearch(model=linear_model.Lasso(),param_grid=random_grid,cv_folds=5)    \n",
    "lasso_r_model = lasso_r_gsc.fit(x_train_scaled,y_train)\n",
    "\n"
   ]
  },
  {
   "cell_type": "code",
   "execution_count": 25,
   "id": "2424019a",
   "metadata": {},
   "outputs": [
    {
     "data": {
      "text/plain": [
       "{'alpha': 0.9,\n",
       " 'copy_X': True,\n",
       " 'fit_intercept': True,\n",
       " 'max_iter': 1000,\n",
       " 'normalize': False,\n",
       " 'positive': False,\n",
       " 'precompute': False,\n",
       " 'random_state': 42,\n",
       " 'selection': 'cyclic',\n",
       " 'tol': 0.0001,\n",
       " 'warm_start': False}"
      ]
     },
     "execution_count": 25,
     "metadata": {},
     "output_type": "execute_result"
    }
   ],
   "source": [
    "lasso_r_model.get_params()"
   ]
  },
  {
   "attachments": {},
   "cell_type": "markdown",
   "id": "0b692512",
   "metadata": {},
   "source": [
    "Ridge Regression"
   ]
  },
  {
   "cell_type": "code",
   "execution_count": 26,
   "id": "af35d017",
   "metadata": {},
   "outputs": [],
   "source": [
    "alpha=[x for x in np.arange(0.1,1,0.1)]\n",
    "random_state = [42]\n",
    "solver = ['auto', 'svd', 'cholesky', 'lsqr', 'sparse_cg', 'sag', 'saga']\n",
    "\n",
    "random_grid = {'alpha':alpha, 'random_state':random_state, 'solver':solver}\n",
    "\n",
    "ridge_r_gsc = GridSearch(model=Ridge(),param_grid=random_grid,cv_folds=5)    \n",
    "ridge_r_model = ridge_r_gsc.fit(x_train_scaled,y_train)\n",
    "\n"
   ]
  },
  {
   "cell_type": "code",
   "execution_count": 27,
   "id": "80428b62",
   "metadata": {},
   "outputs": [
    {
     "data": {
      "text/plain": [
       "{'alpha': 0.9,\n",
       " 'copy_X': True,\n",
       " 'fit_intercept': True,\n",
       " 'max_iter': None,\n",
       " 'normalize': False,\n",
       " 'random_state': 42,\n",
       " 'solver': 'saga',\n",
       " 'tol': 0.001}"
      ]
     },
     "execution_count": 27,
     "metadata": {},
     "output_type": "execute_result"
    }
   ],
   "source": [
    "ridge_r_model.get_params()"
   ]
  },
  {
   "attachments": {},
   "cell_type": "markdown",
   "id": "53e77761",
   "metadata": {},
   "source": [
    "KNeighborsRegressor"
   ]
  },
  {
   "cell_type": "code",
   "execution_count": 28,
   "id": "17768051",
   "metadata": {},
   "outputs": [],
   "source": [
    "leaf_size = list(range(27,33)) \n",
    "n_neighbors = list(range(1,15)) \n",
    "algorithm = [\"auto\", \"ball_tree\", \"kd_tree\", \"brute\"]\n",
    "p = [1,2] #For p = 1 ->manhattan_distance; for p = 2 ->euclidean_distance\n",
    "random_grid = dict(leaf_size=leaf_size, n_neighbors=n_neighbors,algorithm = algorithm,p = p)\n",
    "\n",
    "knnr_gsc = GridSearch(model=KNeighborsRegressor(),param_grid=random_grid,cv_folds=5)   \n",
    "\n",
    "knnr_model = knnr_gsc.fit(x_train_scaled, y_train)\n"
   ]
  },
  {
   "cell_type": "code",
   "execution_count": 29,
   "id": "c5f29134",
   "metadata": {},
   "outputs": [
    {
     "data": {
      "text/plain": [
       "{'algorithm': 'ball_tree',\n",
       " 'leaf_size': 27,\n",
       " 'metric': 'minkowski',\n",
       " 'metric_params': None,\n",
       " 'n_jobs': None,\n",
       " 'n_neighbors': 2,\n",
       " 'p': 1,\n",
       " 'weights': 'uniform'}"
      ]
     },
     "execution_count": 29,
     "metadata": {},
     "output_type": "execute_result"
    }
   ],
   "source": [
    "knnr_model.get_params()"
   ]
  },
  {
   "cell_type": "code",
   "execution_count": 30,
   "id": "1cf03b0d",
   "metadata": {},
   "outputs": [],
   "source": [
    "filename1 = 'C:/Users/anike/OneDrive/Desktop/DL_project/Design-of-High-Strength-HEAs-using-Machine-Learning/HEA_New_Folder/Saved Models/Regressor Models/random_state_0/random_forest_regressor.sav'\n",
    "pickle.dump(rf_model, open(filename1, 'wb'))\n",
    "\n",
    "#filename2 = 'C:/Users/anike/OneDrive/Desktop/DL_project/Design-of-High-Strength-HEAs-using-Machine-Learning/HEA_New_Folder/Saved Models/Regressor Models/XGBoost_regressor.sav'\n",
    "#pickle.dump(xgb_model, open(filename2, 'wb'))\n",
    "\n",
    "filename3 = 'C:/Users/anike/OneDrive/Desktop/DL_project/Design-of-High-Strength-HEAs-using-Machine-Learning/HEA_New_Folder/Saved Models/Regressor Models/random_state_0/Linear_regressor.sav'\n",
    "pickle.dump(lr_model, open(filename3, 'wb'))\n",
    "\n",
    "filename4 = 'C:/Users/anike/OneDrive/Desktop/DL_project/Design-of-High-Strength-HEAs-using-Machine-Learning/HEA_New_Folder/Saved Models/Regressor Models/random_state_0/Lasso_regressor.sav'\n",
    "pickle.dump(lasso_r_model, open(filename4, 'wb'))\n",
    "\n",
    "filename5 = 'C:/Users/anike/OneDrive/Desktop/DL_project/Design-of-High-Strength-HEAs-using-Machine-Learning/HEA_New_Folder/Saved Models/Regressor Models/random_state_0/Ridge_regressor.sav'\n",
    "pickle.dump(ridge_r_model, open(filename5, 'wb'))\n",
    "\n",
    "filename6 = 'C:/Users/anike/OneDrive/Desktop/DL_project/Design-of-High-Strength-HEAs-using-Machine-Learning/HEA_New_Folder/Saved Models/Regressor Models/random_state_0/KNN_regressor.sav'\n",
    "pickle.dump(knnr_model, open(filename6, 'wb'))"
   ]
  },
  {
   "cell_type": "code",
   "execution_count": 31,
   "id": "8fcb9782",
   "metadata": {},
   "outputs": [],
   "source": [
    "filename2 = 'C:/Users/anike/OneDrive/Desktop/DL_project/Design-of-High-Strength-HEAs-using-Machine-Learning/HEA_New_Folder/Saved Models/Regressor Models/random_state_0/XGBoost_regressor.sav'\n",
    "pickle.dump(xgb_model, open(filename2, 'wb'))"
   ]
  },
  {
   "cell_type": "code",
   "execution_count": 32,
   "id": "a3132aa6",
   "metadata": {},
   "outputs": [
    {
     "name": "stdout",
     "output_type": "stream",
     "text": [
      "[04:29:09] WARNING: C:/Users/Administrator/workspace/xgboost-win64_release_1.5.1/src/learner.cc:576: \n",
      "Parameters: { \"criterion\", \"early_stopping_rounds\" } might not be used.\n",
      "\n",
      "  This could be a false alarm, with some parameters getting used by language bindings but\n",
      "  then being mistakenly passed down to XGBoost core, or some parameter actually being used\n",
      "  but getting flagged wrongly here. Please open an issue if you find any such cases.\n",
      "\n",
      "\n",
      "[04:29:09] WARNING: C:/Users/Administrator/workspace/xgboost-win64_release_1.5.1/src/learner.cc:576: \n",
      "Parameters: { \"criterion\", \"early_stopping_rounds\" } might not be used.\n",
      "\n",
      "  This could be a false alarm, with some parameters getting used by language bindings but\n",
      "  then being mistakenly passed down to XGBoost core, or some parameter actually being used\n",
      "  but getting flagged wrongly here. Please open an issue if you find any such cases.\n",
      "\n",
      "\n",
      "[04:29:10] WARNING: C:/Users/Administrator/workspace/xgboost-win64_release_1.5.1/src/learner.cc:576: \n",
      "Parameters: { \"criterion\", \"early_stopping_rounds\" } might not be used.\n",
      "\n",
      "  This could be a false alarm, with some parameters getting used by language bindings but\n",
      "  then being mistakenly passed down to XGBoost core, or some parameter actually being used\n",
      "  but getting flagged wrongly here. Please open an issue if you find any such cases.\n",
      "\n",
      "\n",
      "[04:29:11] WARNING: C:/Users/Administrator/workspace/xgboost-win64_release_1.5.1/src/learner.cc:576: \n",
      "Parameters: { \"criterion\", \"early_stopping_rounds\" } might not be used.\n",
      "\n",
      "  This could be a false alarm, with some parameters getting used by language bindings but\n",
      "  then being mistakenly passed down to XGBoost core, or some parameter actually being used\n",
      "  but getting flagged wrongly here. Please open an issue if you find any such cases.\n",
      "\n",
      "\n",
      "[04:29:12] WARNING: C:/Users/Administrator/workspace/xgboost-win64_release_1.5.1/src/learner.cc:576: \n",
      "Parameters: { \"criterion\", \"early_stopping_rounds\" } might not be used.\n",
      "\n",
      "  This could be a false alarm, with some parameters getting used by language bindings but\n",
      "  then being mistakenly passed down to XGBoost core, or some parameter actually being used\n",
      "  but getting flagged wrongly here. Please open an issue if you find any such cases.\n",
      "\n",
      "\n"
     ]
    }
   ],
   "source": [
    "filename1 = 'C:/Users/anike/OneDrive/Desktop/DL_project/Design-of-High-Strength-HEAs-using-Machine-Learning/HEA_New_Folder/Saved Models/Regressor Models/random_forest_regressor.sav'\n",
    "random_forest_model = pickle.load(open(filename1, 'rb'))\n",
    "\n",
    "train_pred = random_forest_model.predict(x_train_scaled)\n",
    "test_pred = random_forest_model.predict(x_test_scaled)\n",
    "  \n",
    "rf_r2_Train = random_forest_model.score(x_train_scaled,y_train)\n",
    "rf_r2_Test = random_forest_model.score(x_test_scaled,y_test)\n",
    "rf_mse_Train = mse(y_train, train_pred)\n",
    "rf_mse_Test = mse(y_test, test_pred)\n",
    "rf_mae_Train = mae(y_train, train_pred)\n",
    "rf_mae_Test = mae(y_test, test_pred)\n",
    "rf_mape_Train = MAPE(y_train, train_pred)\n",
    "rf_mape_Test = MAPE(y_test, test_pred)\n",
    "rf_adj_r2_Train = adjusted_r_squared(x_train_scaled, y_train, rf_r2_Train)\n",
    "rf_adj_r2_Test = adjusted_r_squared(x_test_scaled, y_test, rf_r2_Test)\n",
    "rf_cross_val_score_Train = list(cross_val_score(random_forest_model, x_train_scaled, y_train, scoring = 'r2',  cv=KFold(n_splits=5,shuffle=True)) )\n",
    "\n",
    "\n",
    "filename1 = 'C:/Users/anike/OneDrive/Desktop/DL_project/Design-of-High-Strength-HEAs-using-Machine-Learning/HEA_New_Folder/Saved Models/Regressor Models/XGBoost_regressor.sav'\n",
    "XGBoost_regressor_model = pickle.load(open(filename1, 'rb'))\n",
    "\n",
    "\n",
    "train_pred = XGBoost_regressor_model.predict(x_train_scaled)\n",
    "test_pred = XGBoost_regressor_model.predict(x_test_scaled)\n",
    "\n",
    "xgb_r2_Train = XGBoost_regressor_model.score(x_train_scaled,y_train)\n",
    "xgb_r2_Test = XGBoost_regressor_model.score(x_test_scaled,y_test)\n",
    "xgb_mse_Train = mse(y_train, train_pred)\n",
    "xgb_mse_Test = mse(y_test, test_pred)\n",
    "xgb_mae_Train = mae(y_train, train_pred)\n",
    "xgb_mae_Test = mae(y_test, test_pred)\n",
    "xgb_mape_Train = MAPE(y_train, train_pred)\n",
    "xgb_mape_Test = MAPE(y_test, test_pred)\n",
    "xgb_adj_r2_Train = adjusted_r_squared(x_train_scaled, y_train, xgb_r2_Train)\n",
    "xgb_adj_r2_Test = adjusted_r_squared(x_test_scaled, y_test, xgb_r2_Test)\n",
    "xgb_cross_val_score_Train = list(cross_val_score(XGBoost_regressor_model, x_train_scaled, y_train, scoring = 'r2', cv=KFold(n_splits=5,shuffle=True)) )\n",
    "\n",
    "\n",
    "\n",
    "filename1 = 'C:/Users/anike/OneDrive/Desktop/DL_project/Design-of-High-Strength-HEAs-using-Machine-Learning/HEA_New_Folder/Saved Models/Regressor Models/Linear_regressor.sav'\n",
    "Linear_regressor_model = pickle.load(open(filename1, 'rb'))\n",
    "\n",
    "\n",
    "train_pred = Linear_regressor_model.predict(x_train_scaled)\n",
    "test_pred = Linear_regressor_model.predict(x_test_scaled)\n",
    "\n",
    "  \n",
    "lr_r2_Train = Linear_regressor_model.score(x_train_scaled,y_train)\n",
    "lr_r2_Test = Linear_regressor_model.score(x_test_scaled,y_test)\n",
    "lr_mse_Train = mse(y_train, train_pred)\n",
    "lr_mse_Test = mse(y_test, test_pred)\n",
    "lr_mae_Train = mae(y_train, train_pred)\n",
    "lr_mae_Test = mae(y_test, test_pred)\n",
    "lr_mape_Train = MAPE(y_train, train_pred)\n",
    "lr_mape_Test = MAPE(y_test, test_pred)\n",
    "lr_adj_r2_Train = adjusted_r_squared(x_train_scaled, y_train, lr_r2_Train)\n",
    "lr_adj_r2_Test = adjusted_r_squared(x_test_scaled, y_test, lr_r2_Test)\n",
    "lr_cross_val_score_Train = list(cross_val_score(Linear_regressor_model, x_train_scaled, y_train, scoring = 'r2',  cv=KFold(n_splits=5,shuffle=True)) )\n",
    "\n",
    "\n",
    "filename1 = 'C:/Users/anike/OneDrive/Desktop/DL_project/Design-of-High-Strength-HEAs-using-Machine-Learning/HEA_New_Folder/Saved Models/Regressor Models/Lasso_regressor.sav'\n",
    "Lasso_regressor_model = pickle.load(open(filename1, 'rb'))\n",
    "\n",
    "\n",
    "train_pred = Lasso_regressor_model.predict(x_train_scaled)\n",
    "test_pred = Lasso_regressor_model.predict(x_test_scaled)\n",
    "\n",
    "  \n",
    "lasso_r_r2_Train = Lasso_regressor_model.score(x_train_scaled,y_train)\n",
    "lasso_r_r2_Test = Lasso_regressor_model.score(x_test_scaled,y_test)\n",
    "lasso_r_mse_Train = mse(y_train, train_pred)\n",
    "lasso_r_mse_Test = mse(y_test, test_pred)\n",
    "lasso_r_mae_Train = mae(y_train, train_pred)\n",
    "lasso_r_mae_Test = mae(y_test, test_pred)\n",
    "lasso_r_mape_Train = MAPE(y_train, train_pred)\n",
    "lasso_r_mape_Test = MAPE(y_test, test_pred)\n",
    "lasso_r_adj_r2_Train = adjusted_r_squared(x_train_scaled, y_train, lasso_r_r2_Train)\n",
    "lasso_r_adj_r2_Test = adjusted_r_squared(x_test_scaled, y_test, lasso_r_r2_Test)\n",
    "lasso_r_cross_val_score_Train = list(cross_val_score(Lasso_regressor_model, x_train_scaled, y_train, scoring = 'r2',  cv=KFold(n_splits=5,shuffle=True)) )\n",
    "\n",
    "\n",
    "filename1 = 'C:/Users/anike/OneDrive/Desktop/DL_project/Design-of-High-Strength-HEAs-using-Machine-Learning/HEA_New_Folder/Saved Models/Regressor Models/Ridge_regressor.sav'\n",
    "ridge_model = pickle.load(open(filename1, 'rb'))\n",
    "\n",
    "\n",
    "train_pred = ridge_model.predict(x_train_scaled)\n",
    "test_pred = ridge_model.predict(x_test_scaled)\n",
    "\n",
    "  \n",
    "ridge_r_r2_Train = ridge_model.score(x_train_scaled,y_train)\n",
    "ridge_r_r2_Test = ridge_model.score(x_test_scaled,y_test)\n",
    "ridge_r_mse_Train = mse(y_train, train_pred)\n",
    "ridge_r_mse_Test = mse(y_test, test_pred)\n",
    "ridge_r_mae_Train = mae(y_train, train_pred)\n",
    "ridge_r_mae_Test = mae(y_test, test_pred)\n",
    "ridge_r_mape_Train = MAPE(y_train, train_pred)\n",
    "ridge_r_mape_Test = MAPE(y_test, test_pred)\n",
    "ridge_r_adj_r2_Train = adjusted_r_squared(x_train_scaled, y_train, ridge_r_r2_Train)\n",
    "ridge_r_adj_r2_Test = adjusted_r_squared(x_test_scaled, y_test, ridge_r_r2_Test)\n",
    "ridge_r_cross_val_score_Train = list(cross_val_score(ridge_model, x_train_scaled, y_train, scoring = 'r2',  cv=KFold(n_splits=5,shuffle=True)) )\n",
    "\n",
    "filename1 = 'C:/Users/anike/OneDrive/Desktop/DL_project/Design-of-High-Strength-HEAs-using-Machine-Learning/HEA_New_Folder/Saved Models/Regressor Models/KNN_regressor.sav'\n",
    "KNN_regressor_model = pickle.load(open(filename1, 'rb'))\n",
    "\n",
    "\n",
    "train_pred = KNN_regressor_model.predict(x_train_scaled)\n",
    "test_pred = KNN_regressor_model.predict(x_test_scaled)\n",
    "\n",
    "  \n",
    "knnr_r2_Train = KNN_regressor_model.score(x_train_scaled,y_train)\n",
    "knnr_r2_Test = KNN_regressor_model.score(x_test_scaled,y_test)\n",
    "knnr_mse_Train = mse(y_train, train_pred)\n",
    "knnr_mse_Test = mse(y_test, test_pred)\n",
    "knnr_mae_Train = mae(y_train, train_pred)\n",
    "knnr_mae_Test = mae(y_test, test_pred)\n",
    "knnr_mape_Train = MAPE(y_train, train_pred)\n",
    "knnr_mape_Test = MAPE(y_test, test_pred)\n",
    "knnr_adj_r2_Train = adjusted_r_squared(x_train_scaled, y_train, knnr_r2_Train)\n",
    "knnr_adj_r2_Test = adjusted_r_squared(x_test_scaled, y_test, knnr_r2_Test)\n",
    "knnr_cross_val_score_Train = list(cross_val_score(KNN_regressor_model, x_train_scaled, y_train, scoring = 'r2', cv=KFold(n_splits=5,shuffle=True)) )\n"
   ]
  },
  {
   "cell_type": "code",
   "execution_count": 33,
   "id": "3134311f",
   "metadata": {},
   "outputs": [
    {
     "data": {
      "text/html": [
       "<div>\n",
       "<style scoped>\n",
       "    .dataframe tbody tr th:only-of-type {\n",
       "        vertical-align: middle;\n",
       "    }\n",
       "\n",
       "    .dataframe tbody tr th {\n",
       "        vertical-align: top;\n",
       "    }\n",
       "\n",
       "    .dataframe thead th {\n",
       "        text-align: right;\n",
       "    }\n",
       "</style>\n",
       "<table border=\"1\" class=\"dataframe\">\n",
       "  <thead>\n",
       "    <tr style=\"text-align: right;\">\n",
       "      <th></th>\n",
       "      <th>Model</th>\n",
       "      <th>Train R-square</th>\n",
       "      <th>Test R-square</th>\n",
       "      <th>Train MSE</th>\n",
       "      <th>Test MSE</th>\n",
       "      <th>Train MAE</th>\n",
       "      <th>Test MAE</th>\n",
       "      <th>Train MAPE</th>\n",
       "      <th>Test MAPE</th>\n",
       "      <th>Train Adj. R-square</th>\n",
       "      <th>Test Adj. R-square</th>\n",
       "      <th>Cross_Validation_Scores_for_trainset</th>\n",
       "    </tr>\n",
       "  </thead>\n",
       "  <tbody>\n",
       "    <tr>\n",
       "      <th>1</th>\n",
       "      <td>XG Boost Regressor</td>\n",
       "      <td>9.192967e-01</td>\n",
       "      <td>9.278738e-01</td>\n",
       "      <td>1.310566e+02</td>\n",
       "      <td>1.019066e+02</td>\n",
       "      <td>6.424647e+00</td>\n",
       "      <td>6.457289e+00</td>\n",
       "      <td>5.339731e+00</td>\n",
       "      <td>5.889905e+00</td>\n",
       "      <td>9.098682e-01</td>\n",
       "      <td>9.045715e-01</td>\n",
       "      <td>[0.8997324710230886, 0.8705079790916009, 0.897...</td>\n",
       "    </tr>\n",
       "    <tr>\n",
       "      <th>0</th>\n",
       "      <td>Random Forest</td>\n",
       "      <td>8.879931e-01</td>\n",
       "      <td>9.126641e-01</td>\n",
       "      <td>1.818913e+02</td>\n",
       "      <td>1.233962e+02</td>\n",
       "      <td>7.456615e+00</td>\n",
       "      <td>7.475303e+00</td>\n",
       "      <td>6.413111e+00</td>\n",
       "      <td>6.699070e+00</td>\n",
       "      <td>8.749075e-01</td>\n",
       "      <td>8.844480e-01</td>\n",
       "      <td>[0.8313443333105928, 0.8716091386622529, 0.771...</td>\n",
       "    </tr>\n",
       "    <tr>\n",
       "      <th>5</th>\n",
       "      <td>KNN Regressor</td>\n",
       "      <td>8.721081e-01</td>\n",
       "      <td>8.845548e-01</td>\n",
       "      <td>2.076875e+02</td>\n",
       "      <td>1.631117e+02</td>\n",
       "      <td>7.771410e+00</td>\n",
       "      <td>7.790407e+00</td>\n",
       "      <td>7.662046e+00</td>\n",
       "      <td>7.643287e+00</td>\n",
       "      <td>8.571666e-01</td>\n",
       "      <td>8.472571e-01</td>\n",
       "      <td>[0.8232570547679893, 0.6799901047431138, 0.827...</td>\n",
       "    </tr>\n",
       "    <tr>\n",
       "      <th>3</th>\n",
       "      <td>Lasso Regression</td>\n",
       "      <td>5.729216e-01</td>\n",
       "      <td>5.658082e-01</td>\n",
       "      <td>6.935456e+02</td>\n",
       "      <td>6.134662e+02</td>\n",
       "      <td>1.873473e+01</td>\n",
       "      <td>1.855155e+01</td>\n",
       "      <td>1.889745e+01</td>\n",
       "      <td>1.838760e+01</td>\n",
       "      <td>5.230265e-01</td>\n",
       "      <td>4.255309e-01</td>\n",
       "      <td>[0.5872082540092906, 0.5557859145757769, 0.474...</td>\n",
       "    </tr>\n",
       "    <tr>\n",
       "      <th>4</th>\n",
       "      <td>Ridge Regression</td>\n",
       "      <td>5.784069e-01</td>\n",
       "      <td>-1.114101e+00</td>\n",
       "      <td>6.846378e+02</td>\n",
       "      <td>2.986997e+03</td>\n",
       "      <td>1.790715e+01</td>\n",
       "      <td>2.004475e+01</td>\n",
       "      <td>1.763527e+01</td>\n",
       "      <td>1.994526e+01</td>\n",
       "      <td>5.291526e-01</td>\n",
       "      <td>-1.797119e+00</td>\n",
       "      <td>[-1.137762549760816, 0.4679811129708612, 0.123...</td>\n",
       "    </tr>\n",
       "    <tr>\n",
       "      <th>2</th>\n",
       "      <td>Linear Regression</td>\n",
       "      <td>-5.212921e+23</td>\n",
       "      <td>-6.263645e+23</td>\n",
       "      <td>8.465420e+26</td>\n",
       "      <td>8.849857e+26</td>\n",
       "      <td>1.855809e+13</td>\n",
       "      <td>1.881784e+13</td>\n",
       "      <td>1.593765e+13</td>\n",
       "      <td>1.587174e+13</td>\n",
       "      <td>-5.821941e+23</td>\n",
       "      <td>-8.287285e+23</td>\n",
       "      <td>[-2.6467016610941288e+26, -5.1045109756020555e...</td>\n",
       "    </tr>\n",
       "  </tbody>\n",
       "</table>\n",
       "</div>"
      ],
      "text/plain": [
       "                Model  Train R-square  Test R-square     Train MSE  \\\n",
       "1  XG Boost Regressor    9.192967e-01   9.278738e-01  1.310566e+02   \n",
       "0       Random Forest    8.879931e-01   9.126641e-01  1.818913e+02   \n",
       "5       KNN Regressor    8.721081e-01   8.845548e-01  2.076875e+02   \n",
       "3    Lasso Regression    5.729216e-01   5.658082e-01  6.935456e+02   \n",
       "4    Ridge Regression    5.784069e-01  -1.114101e+00  6.846378e+02   \n",
       "2   Linear Regression   -5.212921e+23  -6.263645e+23  8.465420e+26   \n",
       "\n",
       "       Test MSE     Train MAE      Test MAE    Train MAPE     Test MAPE  \\\n",
       "1  1.019066e+02  6.424647e+00  6.457289e+00  5.339731e+00  5.889905e+00   \n",
       "0  1.233962e+02  7.456615e+00  7.475303e+00  6.413111e+00  6.699070e+00   \n",
       "5  1.631117e+02  7.771410e+00  7.790407e+00  7.662046e+00  7.643287e+00   \n",
       "3  6.134662e+02  1.873473e+01  1.855155e+01  1.889745e+01  1.838760e+01   \n",
       "4  2.986997e+03  1.790715e+01  2.004475e+01  1.763527e+01  1.994526e+01   \n",
       "2  8.849857e+26  1.855809e+13  1.881784e+13  1.593765e+13  1.587174e+13   \n",
       "\n",
       "   Train Adj. R-square  Test Adj. R-square  \\\n",
       "1         9.098682e-01        9.045715e-01   \n",
       "0         8.749075e-01        8.844480e-01   \n",
       "5         8.571666e-01        8.472571e-01   \n",
       "3         5.230265e-01        4.255309e-01   \n",
       "4         5.291526e-01       -1.797119e+00   \n",
       "2        -5.821941e+23       -8.287285e+23   \n",
       "\n",
       "                Cross_Validation_Scores_for_trainset  \n",
       "1  [0.8997324710230886, 0.8705079790916009, 0.897...  \n",
       "0  [0.8313443333105928, 0.8716091386622529, 0.771...  \n",
       "5  [0.8232570547679893, 0.6799901047431138, 0.827...  \n",
       "3  [0.5872082540092906, 0.5557859145757769, 0.474...  \n",
       "4  [-1.137762549760816, 0.4679811129708612, 0.123...  \n",
       "2  [-2.6467016610941288e+26, -5.1045109756020555e...  "
      ]
     },
     "execution_count": 33,
     "metadata": {},
     "output_type": "execute_result"
    }
   ],
   "source": [
    "models_regressor_comparison = pd.DataFrame({\n",
    "    'Model'       : ['Random Forest', 'XG Boost Regressor', 'Linear Regression', 'Lasso Regression', 'Ridge Regression','KNN Regressor' ],\n",
    "    'Train R-square': [rf_r2_Train, xgb_r2_Train, lr_r2_Train, lasso_r_r2_Train,   ridge_r_r2_Train, knnr_r2_Train],\n",
    "    'Test R-square': [rf_r2_Test, xgb_r2_Test, lr_r2_Test, lasso_r_r2_Test,  ridge_r_r2_Test, knnr_r2_Test],\n",
    "    'Train MSE'    : [rf_mse_Train, xgb_mse_Train, lr_mse_Train, lasso_r_mse_Train,  ridge_r_mse_Train, knnr_mse_Train],\n",
    "    'Test MSE'   : [rf_mse_Test, xgb_mse_Test, lr_mse_Test, lasso_r_mse_Test, ridge_r_mse_Test, knnr_mse_Test],\n",
    "    'Train MAE':[rf_mae_Train, xgb_mae_Train, lr_mae_Train, lasso_r_mae_Train, ridge_r_mae_Train, knnr_mae_Train],\n",
    "    'Test MAE':[rf_mae_Test, xgb_mae_Test, lr_mae_Test, lasso_r_mae_Test, ridge_r_mae_Test, knnr_mae_Test],\n",
    "    'Train MAPE':[rf_mape_Train, xgb_mape_Train, lr_mape_Train, lasso_r_mape_Train, ridge_r_mape_Train, knnr_mape_Train],\n",
    "    'Test MAPE':[rf_mape_Test, xgb_mape_Test, lr_mape_Test, lasso_r_mape_Test, ridge_r_mape_Test, knnr_mape_Test],\n",
    "    'Train Adj. R-square': [rf_adj_r2_Train, xgb_adj_r2_Train, lr_adj_r2_Train, lasso_r_adj_r2_Train,   ridge_r_adj_r2_Train, knnr_adj_r2_Train],\n",
    "    'Test Adj. R-square': [rf_adj_r2_Test, xgb_adj_r2_Test, lr_adj_r2_Test, lasso_r_adj_r2_Test,  ridge_r_adj_r2_Test, knnr_adj_r2_Test],\n",
    "    'Cross_Validation_Scores_for_trainset': [rf_cross_val_score_Train, xgb_cross_val_score_Train, lr_cross_val_score_Train, lasso_r_cross_val_score_Train, ridge_r_cross_val_score_Train, knnr_cross_val_score_Train], \n",
    "    \n",
    "     }, columns = ['Model', 'Train R-square', 'Test R-square', 'Train MSE', 'Test MSE', 'Train MAE', 'Test MAE', 'Train MAPE', 'Test MAPE', 'Train Adj. R-square', 'Test Adj. R-square', 'Cross_Validation_Scores_for_trainset' ])\n",
    "\n",
    "# models_regressor_comparison.set_index('Model', inplace=True)\n",
    "models_regressor_comparison.sort_values(by='Test R-square', ascending=False)"
   ]
  },
  {
   "cell_type": "code",
   "execution_count": 34,
   "id": "6c89671f",
   "metadata": {},
   "outputs": [],
   "source": [
    "models_regressor_comparison.to_csv(\"C:/Users/anike/OneDrive/Desktop/DL_project/Design-of-High-Strength-HEAs-using-Machine-Learning/HEA_New_Folder/Saved Models/Regressor Models/random_state_0/Regression_results_dataframe.csv\")"
   ]
  },
  {
   "cell_type": "code",
   "execution_count": 20,
   "id": "b43af154",
   "metadata": {},
   "outputs": [
    {
     "name": "stdout",
     "output_type": "stream",
     "text": [
      "(345,)\n",
      "(345, 1)\n"
     ]
    },
    {
     "data": {
      "image/png": "[encoded data removed]",
      "text/plain": [
       "<Figure size 720x432 with 1 Axes>"
      ]
     },
     "metadata": {},
     "output_type": "display_data"
    }
   ],
   "source": [
    "test_pred = XGBoost_regressor_model.predict(x_test_scaled).reshape(-1,1)[:,0]\n",
    "print(test_pred.shape)\n",
    "print(np.array(y_test).reshape(-1,1).shape)\n",
    "\n",
    "d = {'Actual': list(test_pred), 'Predicted': list(np.array(y_test).reshape(-1,1)[:,0])} #['Mean_BulkModulus']\n",
    "df = pd.DataFrame(d)\n",
    "\n",
    "import matplotlib.pyplot as plt\n",
    "import seaborn as sns\n",
    "from scipy import stats\n",
    "df\n",
    "sns.set_theme(color_codes=True)\n",
    "fig = plt.figure(figsize=(10,6))\n",
    "ax=fig.add_subplot(111)\n",
    "ax.set_xlim(0, 300)\n",
    "slope, intercept, r_value, p_value, std_err = stats.linregress(df['Actual'],df['Predicted'])\n",
    "sns.regplot(x = 'Actual',y = 'Predicted',data = df,line_kws={'label':\"Best Linear Fit : \" + \"y={0:.1f}x+{1:.1f}\".format(slope,intercept)},label='Data points')\n",
    "plt.xlabel('Actual Bulk Modulus of HEAs')\n",
    "plt.ylabel('Predicted Bulk Modulus of HEAs')\n",
    "fig.legend()\n",
    "plt.show()"
   ]
  },
  {
   "cell_type": "code",
   "execution_count": null,
   "id": "77b7328b",
   "metadata": {},
   "outputs": [],
   "source": []
  }
 ],
 "metadata": {
  "kernelspec": {
   "display_name": "Python 3.6.9 64-bit",
   "language": "python",
   "name": "python3"
  },
  "language_info": {
   "codemirror_mode": {
    "name": "ipython",
    "version": 3
   },
   "file_extension": ".py",
   "mimetype": "text/x-python",
   "name": "python",
   "nbconvert_exporter": "python",
   "pygments_lexer": "ipython3",
   "version": "3.6.9 (default, Jun 29 2022, 11:45:57) \n[GCC 8.4.0]"
  },
  "vscode": {
   "interpreter": {
    "hash": "31f2aee4e71d21fbe5cf8b01ff0e069b9275f58929596ceb00d14d90e3e16cd6"
   }
  }
 },
 "nbformat": 4,
 "nbformat_minor": 5
}
